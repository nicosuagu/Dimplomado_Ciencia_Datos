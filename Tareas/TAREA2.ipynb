{
  "nbformat": 4,
  "nbformat_minor": 0,
  "metadata": {
    "colab": {
      "provenance": [],
      "toc_visible": true
    },
    "kernelspec": {
      "name": "python3",
      "display_name": "Python 3"
    },
    "language_info": {
      "name": "python"
    }
  },
  "cells": [
    {
      "cell_type": "markdown",
      "source": [
        "# TAREA 2 Camilo Bahamon\n"
      ],
      "metadata": {
        "id": "3yFgrhGTmfBj"
      }
    },
    {
      "cell_type": "markdown",
      "source": [
        "[![Open In Colab](https://colab.research.google.com/assets/colab-badge.svg)](https://colab.research.google.com/drive/1oLju-lESNCLwHmCTI_PteIkwWUTRBSdW?usp=sharing)"
      ],
      "metadata": {
        "id": "bNjZf1QoS0ds"
      }
    },
    {
      "cell_type": "markdown",
      "source": [
        "# Primer punto"
      ],
      "metadata": {
        "id": "HWQlsDnxrZsm"
      }
    },
    {
      "cell_type": "code",
      "source": [
        "from datetime import date, datetime\n",
        "\n",
        "def calculate_age(birth_date):\n",
        "    today = date.today()\n",
        "    age = today.year - birth_date.year - ((today.month, today.day) < (birth_date.month, birth_date.day))\n",
        "    return age\n",
        "\n",
        "birth_date_str = input(\"Ingrese su fecha de nacimiento (dd/mm/yyyy): \")\n",
        "birth_date = datetime.strptime(birth_date_str, \"%d/%m/%Y\").date()\n",
        "age = calculate_age(birth_date)\n",
        "print(\"Su edad es:\", age)"
      ],
      "metadata": {
        "colab": {
          "base_uri": "https://localhost:8080/"
        },
        "id": "dG0fONqjqG_7",
        "outputId": "ea5e8cdc-39b2-413a-8611-16b1624e1fd7"
      },
      "execution_count": 7,
      "outputs": [
        {
          "output_type": "stream",
          "name": "stdout",
          "text": [
            "Ingrese su fecha de nacimiento (dd/mm/yyyy): 23/12/2003\n",
            "Su edad es: 19\n"
          ]
        }
      ]
    },
    {
      "cell_type": "markdown",
      "source": [
        "# SEGUNDO PUNTO"
      ],
      "metadata": {
        "id": "t6Ocu7mSt6d5"
      }
    },
    {
      "cell_type": "code",
      "source": [
        "def escribir_centrado(texto):\n",
        "    ancho_terminal = 80\n",
        "    texto_centrado = texto.center(ancho_terminal)\n",
        "    print(texto_centrado)\n",
        "\n",
        "texto = input(\"Ingrese un texto: \")\n",
        "escribir_centrado(texto)"
      ],
      "metadata": {
        "colab": {
          "base_uri": "https://localhost:8080/"
        },
        "id": "jH_pixxDq4tD",
        "outputId": "0f678607-93c5-4e7e-91b5-4564c124526c"
      },
      "execution_count": 8,
      "outputs": [
        {
          "output_type": "stream",
          "name": "stdout",
          "text": [
            "Ingrese un texto: hola\n",
            "                                      hola                                      \n"
          ]
        }
      ]
    },
    {
      "cell_type": "markdown",
      "source": [
        "# TERCER PUNTO\n"
      ],
      "metadata": {
        "id": "T3j3mAB2u_PL"
      }
    },
    {
      "cell_type": "code",
      "source": [
        "def markdown(func):\n",
        "    def wrapper(texto):\n",
        "        texto_marcado = f\"**_ {texto} _**\"\n",
        "        return func(texto_marcado)\n",
        "    return wrapper\n",
        "\n",
        "@markdown\n",
        "def escribir(texto):\n",
        "    print(texto)\n",
        "\n",
        "texto = input(\"Ingrese un texto: \")\n",
        "escribir(texto)"
      ],
      "metadata": {
        "colab": {
          "base_uri": "https://localhost:8080/"
        },
        "id": "_D1ZdVysudUy",
        "outputId": "c0e97fb4-0534-456e-d20c-8bbf7be44fcf"
      },
      "execution_count": 9,
      "outputs": [
        {
          "output_type": "stream",
          "name": "stdout",
          "text": [
            "Ingrese un texto: hola\n",
            "**_ hola _**\n"
          ]
        }
      ]
    },
    {
      "cell_type": "markdown",
      "source": [
        "# CUARTO PUNTO"
      ],
      "metadata": {
        "id": "oiDhxJ0PvZXx"
      }
    },
    {
      "cell_type": "code",
      "source": [
        "def mult( x,y ):\n",
        "  if( x%y==0 ):\n",
        "    return(print(str(x)+\" es multiplo de \" +str(y)))\n",
        "  else:\n",
        "    return(print(str(x)+\" no es multiplo de \" +str(y)))"
      ],
      "metadata": {
        "id": "mPffesd3vclT"
      },
      "execution_count": 10,
      "outputs": []
    },
    {
      "cell_type": "code",
      "source": [
        "mult(4,20)"
      ],
      "metadata": {
        "colab": {
          "base_uri": "https://localhost:8080/"
        },
        "id": "DZFc_6Nzv736",
        "outputId": "348c0540-a038-441d-e3e3-4457b45b677e"
      },
      "execution_count": 11,
      "outputs": [
        {
          "output_type": "stream",
          "name": "stdout",
          "text": [
            "4 no es multiplo de 20\n"
          ]
        }
      ]
    },
    {
      "cell_type": "code",
      "source": [
        "mult(4,30)"
      ],
      "metadata": {
        "colab": {
          "base_uri": "https://localhost:8080/"
        },
        "id": "iBXdaO3Pwhbh",
        "outputId": "22a5f486-000e-4415-a0f8-bf3091993a53"
      },
      "execution_count": 12,
      "outputs": [
        {
          "output_type": "stream",
          "name": "stdout",
          "text": [
            "4 no es multiplo de 30\n"
          ]
        }
      ]
    },
    {
      "cell_type": "markdown",
      "source": [
        "# QUINTO PUNTO"
      ],
      "metadata": {
        "id": "HsI8PuM8wpcZ"
      }
    },
    {
      "cell_type": "code",
      "source": [
        "def media(x):\n",
        "  y=0\n",
        "  for i in range(24):\n",
        "    y=y+x[i]\n",
        "  return(y/24)\n"
      ],
      "metadata": {
        "id": "Kr8vdJDpwpBI"
      },
      "execution_count": 16,
      "outputs": []
    },
    {
      "cell_type": "code",
      "source": [
        "x=list(range(24))\n",
        "for i in range(24):\n",
        "  x[i] = int(input(\"Deme la \" + f\"{i+1} ésima\"+\" temperatura\"))\n"
      ],
      "metadata": {
        "colab": {
          "base_uri": "https://localhost:8080/"
        },
        "id": "d53b0DncxQVA",
        "outputId": "5d4edcf0-1bd0-4b9b-c6f6-f04ba4254650"
      },
      "execution_count": 19,
      "outputs": [
        {
          "name": "stdout",
          "output_type": "stream",
          "text": [
            "Deme la 1 ésima temperatura1\n",
            "Deme la 2 ésima temperatura1\n",
            "Deme la 3 ésima temperatura1\n",
            "Deme la 4 ésima temperatura1\n",
            "Deme la 5 ésima temperatura1\n",
            "Deme la 6 ésima temperatura1\n",
            "Deme la 7 ésima temperatura1\n",
            "Deme la 8 ésima temperatura1\n",
            "Deme la 9 ésima temperatura1\n",
            "Deme la 10 ésima temperatura1\n",
            "Deme la 11 ésima temperatura1\n",
            "Deme la 12 ésima temperatura1\n",
            "Deme la 13 ésima temperatura1\n",
            "Deme la 14 ésima temperatura1\n",
            "Deme la 15 ésima temperatura1\n",
            "Deme la 16 ésima temperatura1\n",
            "Deme la 17 ésima temperatura1\n",
            "Deme la 18 ésima temperatura1\n",
            "Deme la 19 ésima temperatura1\n",
            "Deme la 20 ésima temperatura1\n",
            "Deme la 21 ésima temperatura1\n",
            "Deme la 22 ésima temperatura1\n",
            "Deme la 23 ésima temperatura1\n",
            "Deme la 24 ésima temperatura1\n"
          ]
        }
      ]
    },
    {
      "cell_type": "code",
      "source": [
        "x"
      ],
      "metadata": {
        "colab": {
          "base_uri": "https://localhost:8080/"
        },
        "id": "-jujyHp0xb7I",
        "outputId": "042af62d-a98f-45ed-950e-1d2a3f2cecc5"
      },
      "execution_count": 20,
      "outputs": [
        {
          "output_type": "execute_result",
          "data": {
            "text/plain": [
              "[1, 1, 1, 1, 1, 1, 1, 1, 1, 1, 1, 1, 1, 1, 1, 1, 1, 1, 1, 1, 1, 1, 1, 1]"
            ]
          },
          "metadata": {},
          "execution_count": 20
        }
      ]
    },
    {
      "cell_type": "code",
      "source": [
        "print(\"la temperatura media es: \" + str(sum(x)/24))"
      ],
      "metadata": {
        "colab": {
          "base_uri": "https://localhost:8080/"
        },
        "id": "9iViUAsly4ln",
        "outputId": "8393fd0f-f30a-43e1-986e-cd5664547679"
      },
      "execution_count": 21,
      "outputs": [
        {
          "output_type": "stream",
          "name": "stdout",
          "text": [
            "la temperatura media es: 1.0\n"
          ]
        }
      ]
    },
    {
      "cell_type": "markdown",
      "source": [
        "# SEXTO PUNTO\n"
      ],
      "metadata": {
        "id": "K5JIOC2XzHS4"
      }
    },
    {
      "cell_type": "code",
      "source": [
        "def esp(x):\n",
        "  y=\"\"\n",
        "  for i in range(len(x)):\n",
        "    y= y +f\"{x[i]} \"\n",
        "  return(y)"
      ],
      "metadata": {
        "id": "lUl_ZmanzJZP"
      },
      "execution_count": null,
      "outputs": []
    },
    {
      "cell_type": "code",
      "source": [
        "print(esp(\"eeee\"))"
      ],
      "metadata": {
        "colab": {
          "base_uri": "https://localhost:8080/"
        },
        "id": "n2rc0vRg0DGH",
        "outputId": "df89b586-5620-4a78-9147-7bf4ded7183d"
      },
      "execution_count": null,
      "outputs": [
        {
          "output_type": "stream",
          "name": "stdout",
          "text": [
            "e e e e \n"
          ]
        }
      ]
    },
    {
      "cell_type": "markdown",
      "source": [
        "# SEPTIMO"
      ],
      "metadata": {
        "id": "HpKM_ZsT0Vi_"
      }
    },
    {
      "cell_type": "code",
      "source": [
        "import math\n",
        "\n",
        "def calcular_area_perimetro_circunferencia(radio):\n",
        "    area = math.pi * radio ** 2\n",
        "    perimetro = 2 * math.pi * radio\n",
        "    return area, perimetro\n"
      ],
      "metadata": {
        "id": "KuYbVBfBQ_gZ"
      },
      "execution_count": 22,
      "outputs": []
    },
    {
      "cell_type": "code",
      "source": [
        "radio = 5\n",
        "area, perimetro = calcular_area_perimetro_circunferencia(radio)\n",
        "print(\"Radio:\", radio)\n",
        "print(\"Área:\", area)\n",
        "print(\"Perímetro:\", perimetro)\n"
      ],
      "metadata": {
        "colab": {
          "base_uri": "https://localhost:8080/"
        },
        "id": "jdVxswa7RA2k",
        "outputId": "14402b4b-945e-475a-c321-f85149711631"
      },
      "execution_count": 23,
      "outputs": [
        {
          "output_type": "stream",
          "name": "stdout",
          "text": [
            "Radio: 5\n",
            "Área: 78.53981633974483\n",
            "Perímetro: 31.41592653589793\n"
          ]
        }
      ]
    },
    {
      "cell_type": "markdown",
      "source": [
        "# OCTAVO"
      ],
      "metadata": {
        "id": "kkuXac3sRV8-"
      }
    },
    {
      "cell_type": "code",
      "source": [
        "def Login(usuario, password, intentos):\n",
        "    if usuario == \"usuario1\" and password == \"asdasd\":\n",
        "        return True, intentos\n",
        "    else:\n",
        "        intentos += 1\n",
        "        return False, intentos\n"
      ],
      "metadata": {
        "id": "af4_7fP3RnkY"
      },
      "execution_count": 24,
      "outputs": []
    },
    {
      "cell_type": "code",
      "source": [
        "intentos = 0\n",
        "usuario = input(\"Ingrese su usuario: \")\n",
        "password = input(\"Ingrese su contraseña: \")\n",
        "login_exitoso, intentos = Login(usuario, password, intentos)\n",
        "\n",
        "if login_exitoso:\n",
        "    print(\"Bienvenido\")\n",
        "else:\n",
        "    print(\"Usuario o contraseña incorrectos. Intento número:\", intentos)\n"
      ],
      "metadata": {
        "colab": {
          "base_uri": "https://localhost:8080/"
        },
        "id": "7F64PIfFRp03",
        "outputId": "93dcb5cc-62d5-4499-cd66-5c194a4f2403"
      },
      "execution_count": 26,
      "outputs": [
        {
          "output_type": "stream",
          "name": "stdout",
          "text": [
            "Ingrese su usuario: usuario1\n",
            "Ingrese su contraseña: asdasd\n",
            "Bienvenido\n"
          ]
        }
      ]
    },
    {
      "cell_type": "markdown",
      "source": [
        "# NOVENO"
      ],
      "metadata": {
        "id": "o2JwvDiIR2Xu"
      }
    },
    {
      "cell_type": "code",
      "source": [
        "def factorial(n):\n",
        "    if n == 0:\n",
        "        return 1\n",
        "    else:\n",
        "        return n * factorial(n-1)\n"
      ],
      "metadata": {
        "id": "JTNfB1FzR45t"
      },
      "execution_count": 27,
      "outputs": []
    },
    {
      "cell_type": "code",
      "source": [
        "numero = int(input(\"Ingresa un número entero: \"))\n",
        "resultado = factorial(numero)\n",
        "print(f\"El factorial de {numero} es {resultado}\")\n"
      ],
      "metadata": {
        "colab": {
          "base_uri": "https://localhost:8080/"
        },
        "id": "ciJefa0tSUHo",
        "outputId": "13a027ef-4765-4870-ec97-ba98f1a2ac91"
      },
      "execution_count": 28,
      "outputs": [
        {
          "output_type": "stream",
          "name": "stdout",
          "text": [
            "Ingresa un número entero: 5\n",
            "El factorial de 5 es 120\n"
          ]
        }
      ]
    },
    {
      "cell_type": "markdown",
      "source": [
        "# DECIMO"
      ],
      "metadata": {
        "id": "oYjpNWT4SdLB"
      }
    },
    {
      "cell_type": "code",
      "source": [
        "def calcular_segundos(horas, minutos, segundos):\n",
        "    total_segundos = (horas * 3600) + (minutos * 60) + segundos\n",
        "    return total_segundos\n"
      ],
      "metadata": {
        "id": "CXOmo9BYSg7Y"
      },
      "execution_count": 29,
      "outputs": []
    },
    {
      "cell_type": "code",
      "source": [
        "def calcular_tiempo(total_segundos):\n",
        "    horas = total_segundos // 3600\n",
        "    minutos = (total_segundos % 3600) // 60\n",
        "    segundos = (total_segundos % 3600) % 60\n",
        "    return horas, minutos, segundos\n"
      ],
      "metadata": {
        "id": "Zow5FY94TBKZ"
      },
      "execution_count": 30,
      "outputs": []
    },
    {
      "cell_type": "code",
      "source": [
        "# Ejemplo de uso de las funciones\n",
        "horas = 2\n",
        "minutos = 30\n",
        "segundos = 45\n",
        "\n",
        "total_segundos = calcular_segundos(horas, minutos, segundos)\n",
        "print(\"Total de segundos:\", total_segundos)\n",
        "\n",
        "horas, minutos, segundos = calcular_tiempo(total_segundos)\n",
        "print(\"Horas:\", horas)\n",
        "print(\"Minutos:\", minutos)\n",
        "print(\"Segundos:\", segundos)\n"
      ],
      "metadata": {
        "colab": {
          "base_uri": "https://localhost:8080/"
        },
        "id": "4-9rYsQnTDO9",
        "outputId": "7a7df529-3a31-48ed-c518-b9daf3857445"
      },
      "execution_count": 31,
      "outputs": [
        {
          "output_type": "stream",
          "name": "stdout",
          "text": [
            "Total de segundos: 9045\n",
            "Horas: 2\n",
            "Minutos: 30\n",
            "Segundos: 45\n"
          ]
        }
      ]
    },
    {
      "cell_type": "markdown",
      "source": [
        "# DECIMO PRIMERO"
      ],
      "metadata": {
        "id": "J--D42-KTdiw"
      }
    },
    {
      "cell_type": "code",
      "source": [
        "def invert_tuple(tup):\n",
        "    inverted_tup = tuple(reversed(tup))\n",
        "    return inverted_tup\n"
      ],
      "metadata": {
        "id": "cdDQ1hx2UbFw"
      },
      "execution_count": 37,
      "outputs": []
    },
    {
      "cell_type": "code",
      "source": [
        "tup1 = (1, 2, 3, 4, 5)\n",
        "\n",
        "print(invert_tuple(tup1))  # Output: (5, 4, 3, 2, 1)"
      ],
      "metadata": {
        "colab": {
          "base_uri": "https://localhost:8080/"
        },
        "id": "JNjO9GbLUcdf",
        "outputId": "cb5d98dc-d97a-491a-c5d2-545a6d854ff3"
      },
      "execution_count": 39,
      "outputs": [
        {
          "output_type": "stream",
          "name": "stdout",
          "text": [
            "(5, 4, 3, 2, 1)\n"
          ]
        }
      ]
    },
    {
      "cell_type": "markdown",
      "source": [
        "# DECIMO SEGUNDO"
      ],
      "metadata": {
        "id": "iH_ciIfjUi5_"
      }
    },
    {
      "cell_type": "code",
      "source": [
        "import functools\n",
        "\n",
        "from functools import reduce\n",
        "def media_geometrica(lista):\n",
        "    prod = reduce(lambda x, y: x * y, lista)\n",
        "    return prod ** (1/len(lista))\n"
      ],
      "metadata": {
        "id": "PXwjBO-tUlxP"
      },
      "execution_count": 40,
      "outputs": []
    },
    {
      "cell_type": "code",
      "source": [
        "lista = [2, 4, 8]\n",
        "med_geo = media_geometrica(lista)\n",
        "print(\"La media geométrica de la lista es:\", med_geo)"
      ],
      "metadata": {
        "colab": {
          "base_uri": "https://localhost:8080/"
        },
        "id": "xups5F73U69M",
        "outputId": "a79c66b4-085e-4ef8-93cb-97159a5e75eb"
      },
      "execution_count": 41,
      "outputs": [
        {
          "output_type": "stream",
          "name": "stdout",
          "text": [
            "La media geométrica de la lista es: 3.9999999999999996\n"
          ]
        }
      ]
    }
  ]
}