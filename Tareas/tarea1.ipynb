{
 "cells": [
  {
   "cell_type": "markdown",
   "id": "64f82000",
   "metadata": {},
   "source": [
    "<center> <h1>REGRESION LINEAL </h1></center> <DIV align=\"right\"> <img src= https://logos-world.net/wp-content/uploads/2021/10/Python-Symbol.png width=\"200\"/>"
   ]
  },
  {
   "cell_type": "markdown",
   "id": "523f7f21",
   "metadata": {},
   "source": [
    "<p align=left ><h2>  Adrien-Marie Legendre </h2> \n",
    "<h3> (Miembro de Academia Prusiana de las Ciencias)</h3>\n",
    "<img style=\"border: 15px solid; color: gray;\" src= https://upload.wikimedia.org/wikipedia/commons/thumb/0/03/Legendre.jpg/220px-Legendre.jpg>\n",
    "\n",
    "fue un destacado matemático francés.\n",
    "    \tnacimiento:18 de septiembre de 1752 París. \n",
    "    fallecimiento:\t10 de enero de 1833, (80 años) Auteuil, Francia\n"
   ]
  },
  {
   "cell_type": "markdown",
   "id": "d8f8fa44-2479-40f3-8b55-7df4a2dd3583",
   "metadata": {},
   "source": [
    "## Regresión\n"
   ]
  },
  {
   "cell_type": "markdown",
   "id": "ce1ff9c7-e0d6-4ab2-b58d-11aed792ca22",
   "metadata": {},
   "source": [
    "Regresión es una noción que refiere al acto de regresar o de volver atrás.\n",
    "\n",
    "la regresión estadística es la tendencia de un grupo de datos entre si por medio de alguna función que los relacione."
   ]
  },
  {
   "cell_type": "markdown",
   "id": "2ac7678f-4075-4ce2-a253-6d2ebb999b5a",
   "metadata": {},
   "source": [
    "## regresion lineal"
   ]
  },
  {
   "cell_type": "markdown",
   "id": "5b11f310-11d5-4eea-b6ea-31a3f3231033",
   "metadata": {},
   "source": [
    "La regresion lineal es un modelo matemático usado para aproximar la relación de dependencia entre una variable dependiente $Y$, \n",
    "m variables independientes ${\\displaystyle X_{i}}$ "
   ]
  },
  {
   "cell_type": "markdown",
   "id": "0859e065-c237-4f23-b606-cfc030364be0",
   "metadata": {},
   "source": [
    "el modelo puede ser representado por:\n",
    "${\\displaystyle Y=\\beta _{0}+\\beta _{1}X_{1}+\\cdots +\\beta _{m}X_{m}+\\varepsilon }$"
   ]
  },
  {
   "cell_type": "markdown",
   "id": "d77c4b86-ac08-46b5-af4d-ccbbd0bcde06",
   "metadata": {},
   "source": [
    "Donde:\n",
    "    <ul>\n",
    "    <li>Y son los datos reales.</li>\n",
    "    <li> $\\beta _{0}$ es el parametro inicial.</li>\n",
    "    <li> $\\beta _{m}$ son los parametros asignados a $X_{m}$. </li>\n",
    "    <li> $X_{m}$ son las variables independientes. </li>\n",
    "    <li> $\\varepsilon$ el error obtenido de esta ecuación lineal respecto a los valores reales.</li>\n",
    "    "
   ]
  },
  {
   "cell_type": "markdown",
   "id": "b0208a57-6dbd-40f7-873c-2d54482da329",
   "metadata": {},
   "source": [
    "## Ejemplo"
   ]
  },
  {
   "cell_type": "markdown",
   "id": "90442743-0d51-4a21-8cc4-ac31a1fc3fc1",
   "metadata": {},
   "source": [
    "Un ejemplo básico puede ser la relación entre la altura de padres e hijos, donde podremos ver una relación directamente proporcional fuerte"
   ]
  },
  {
   "cell_type": "markdown",
   "id": "e45f9edb-8d8b-4fd7-b4ac-6bda4f60159b",
   "metadata": {},
   "source": [
    "en python se pueden realizar modelos usando algoritmos de aprendizajes como por ejemplo"
   ]
  },
  {
   "cell_type": "code",
   "execution_count": 4,
   "id": "b942ea98-c991-42f9-bf45-4718081e0e23",
   "metadata": {},
   "outputs": [
    {
     "name": "stdout",
     "output_type": "stream",
     "text": [
      "R-squared: 0.9848597598501888\n"
     ]
    },
    {
     "data": {
      "image/png": "[encoded data removed]",
      "text/plain": [
       "<Figure size 432x288 with 1 Axes>"
      ]
     },
     "metadata": {
      "needs_background": "light"
     },
     "output_type": "display_data"
    }
   ],
   "source": [
    "import numpy as np\n",
    "import pandas as pd\n",
    "import matplotlib.pyplot as plt\n",
    "from sklearn.linear_model import LinearRegression\n",
    "from sklearn.model_selection import train_test_split\n",
    "\n",
    "# Load the data\n",
    "data = pd.read_csv(\"heights.csv\")\n",
    "\n",
    "# Extract the independent and dependent variables\n",
    "X = data[[\"father_height\"]].values\n",
    "y = data[\"son_height\"].values\n",
    "\n",
    "# Split the data into training and test sets\n",
    "X_train, X_test, y_train, y_test = train_test_split(X, y, test_size=0.2, random_state=0)\n",
    "\n",
    "# Train the model\n",
    "reg = LinearRegression().fit(X_train, y_train)\n",
    "\n",
    "# Predict on the test set\n",
    "y_pred = reg.predict(X_test)\n",
    "\n",
    "# Evaluate the performance of the model\n",
    "print(\"R-squared:\", reg.score(X_test, y_test))\n",
    "\n",
    "# Plot the predictions\n",
    "plt.scatter(X_test, y_test, color='black')\n",
    "plt.plot(X_test, y_pred, color='blue', linewidth=2)\n",
    "plt.xlabel(\"Father's Height (inches)\")\n",
    "plt.ylabel(\"Son's Height (inches)\")\n",
    "plt.show()\n"
   ]
  },
  {
   "cell_type": "markdown",
   "id": "8d2d81db-287b-401e-8eae-3160cef706ac",
   "metadata": {},
   "source": [
    "código sacado de chat GPT"
   ]
  },
  {
   "cell_type": "markdown",
   "id": "38869d10",
   "metadata": {},
   "source": [
    "## bibliografía\n",
    "<ul>\n",
    "    <li>wikipedia: https://es.wikipedia.org/wiki/Regresi%C3%B3n_lineal</li>\n",
    "<li>chatgpt: https://chat.openai.com/chat"
   ]
  },
  {
   "cell_type": "code",
   "execution_count": null,
   "id": "e9d44b19",
   "metadata": {},
   "outputs": [],
   "source": []
  }
 ],
 "metadata": {
  "kernelspec": {
   "display_name": "Python 3 (ipykernel)",
   "language": "python",
   "name": "python3"
  },
  "language_info": {
   "codemirror_mode": {
    "name": "ipython",
    "version": 3
   },
   "file_extension": ".py",
   "mimetype": "text/x-python",
   "name": "python",
   "nbconvert_exporter": "python",
   "pygments_lexer": "ipython3",
   "version": "3.9.12"
  }
 },
 "nbformat": 4,
 "nbformat_minor": 5
}
