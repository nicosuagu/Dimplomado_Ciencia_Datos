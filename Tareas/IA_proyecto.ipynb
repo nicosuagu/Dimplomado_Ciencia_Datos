{
  "cells": [
    {
      "cell_type": "code",
      "execution_count": null,
      "metadata": {
        "colab": {
          "base_uri": "https://localhost:8080/"
        },
        "id": "U0XBuz2yYQTs",
        "outputId": "5b5890fa-4c5e-4513-91cb-3fe9dafb9523"
      },
      "outputs": [
        {
          "output_type": "stream",
          "name": "stdout",
          "text": [
            "Mounted at /content/drive\n"
          ]
        }
      ],
      "source": [
        "from google.colab import drive\n",
        "drive.mount('/content/drive')\n"
      ]
    },
    {
      "cell_type": "code",
      "execution_count": null,
      "metadata": {
        "id": "X9yHhwcgkmoG"
      },
      "outputs": [],
      "source": [
        "import pandas as pd"
      ]
    },
    {
      "cell_type": "code",
      "execution_count": null,
      "metadata": {
        "colab": {
          "base_uri": "https://localhost:8080/"
        },
        "id": "r7eT_2k2kD4H",
        "outputId": "2b3f5c2b-ea5d-418d-cbc7-610a0c8969aa"
      },
      "outputs": [
        {
          "output_type": "stream",
          "name": "stderr",
          "text": [
            "<ipython-input-3-ad4dd0d5ad40>:1: ParserWarning: Falling back to the 'python' engine because the separator encoded in utf-8 is > 1 char long, and the 'c' engine does not support such separators; you can avoid this warning by specifying engine='python'.\n",
            "  df= pd.read_csv('/content/drive/MyDrive/SB11_20142.TXT', sep=\"¬\")\n"
          ]
        }
      ],
      "source": [
        "df= pd.read_csv('/content/drive/MyDrive/SB11_20142.TXT', sep=\"¬\")"
      ]
    },
    {
      "cell_type": "code",
      "execution_count": null,
      "metadata": {
        "id": "Ll74Mf0ipDb9"
      },
      "outputs": [],
      "source": [
        "# Selecciona las columnas deseadas\n",
        "columns_to_select = ['ESTU_NACIONALIDAD',\n",
        "                     'ESTU_GENERO',\n",
        "                     'ESTU_FECHANACIMIENTO',\n",
        "                     'ESTU_ETNIA',\n",
        "                     'ESTU_DEPTO_RESIDE',\n",
        "                     'ESTU_AREARESIDE',\n",
        "                     'ESTU_VALORPENSIONCOLEGIO',\n",
        "                     'ESTU_VECESPRESENTOEXAMEN',\n",
        "                     'FAMI_ESTRATOVIVIENDA',\n",
        "                     'FAMI_PISOSHOGAR',\n",
        "                     'FAMI_PERSONASHOGAR',\n",
        "                     'FAMI_EDUCACIONPADRE',\n",
        "                     'FAMI_EDUCACIONMADRE',\n",
        "                     'FAMI_OCUPACIONPADRE',\n",
        "                     'FAMI_OCUPACIONMADRE',\n",
        "                     'FAMI_TIENEINTERNET',\n",
        "                     'FAMI_TIENESERVICIOTV',\n",
        "                     'FAMI_TELEFONO',\n",
        "                     'FAMI_TIENECOMPUTADOR',\n",
        "                     'FAMI_TIENELAVADORA',\n",
        "                     'FAMI_TIENEMICROONDAS',\n",
        "                     'FAMI_TIENEAUTOMOVIL',\n",
        "                     'FAMI_TIENE_NEVERA',\n",
        "                     'FAMI_TIENE_CELULAR',\n",
        "                     'FAMI_INGRESOFMILIARMENSUAL',\n",
        "                     'ESTU_TRABAJAACTUALMENTE',\n",
        "                     'COLE_GENERO',\n",
        "                     'COLE_CALENDARIO',\n",
        "                     'COLE_BILINGUE',\n",
        "                     'COLE_CARACTER',\n",
        "                     'COLE_AREA_UBICACION',\n",
        "                     'COLE_JORNADA',\n",
        "                    'PUNT_GLOBAL']\n",
        "\n",
        "new_df = df[columns_to_select]"
      ]
    },
    {
      "cell_type": "code",
      "execution_count": null,
      "metadata": {
        "colab": {
          "base_uri": "https://localhost:8080/"
        },
        "id": "svxU4iuLpyLb",
        "outputId": "a1feacdc-03ca-4688-d54a-be21349af9e1"
      },
      "outputs": [
        {
          "output_type": "execute_result",
          "data": {
            "text/plain": [
              "<bound method DataFrame.info of        ESTU_NACIONALIDAD ESTU_GENERO ESTU_FECHANACIMIENTO ESTU_ETNIA  \\\n",
              "0               COLOMBIA           F           28/02/1997    Ninguno   \n",
              "1               COLOMBIA           F           02/11/1995    Ninguno   \n",
              "2               COLOMBIA           F           30/01/1998    Ninguno   \n",
              "3               COLOMBIA           M           02/05/1996    Ninguno   \n",
              "4               COLOMBIA           M           21/01/1998    Ninguno   \n",
              "...                  ...         ...                  ...        ...   \n",
              "544530          COLOMBIA           F           15/06/1990    Ninguno   \n",
              "544531          COLOMBIA           M           24/06/1995    Ninguno   \n",
              "544532          COLOMBIA           M           14/01/1997    Ninguno   \n",
              "544533          COLOMBIA           F           24/03/1998    Ninguno   \n",
              "544534          COLOMBIA           M           09/12/1996    Ninguno   \n",
              "\n",
              "       ESTU_DEPTO_RESIDE     ESTU_AREARESIDE ESTU_VALORPENSIONCOLEGIO  \\\n",
              "0              ANTIOQUIA  Cabecera Municipal          No paga Pensión   \n",
              "1              ANTIOQUIA  Cabecera Municipal          No paga Pensión   \n",
              "2              ANTIOQUIA  Cabecera Municipal          No paga Pensión   \n",
              "3              ANTIOQUIA  Cabecera Municipal          No paga Pensión   \n",
              "4              ANTIOQUIA  Cabecera Municipal          No paga Pensión   \n",
              "...                  ...                 ...                      ...   \n",
              "544530         MAGDALENA          Area Rural          No paga Pensión   \n",
              "544531         MAGDALENA          Area Rural          No paga Pensión   \n",
              "544532            NARIÑO          Area Rural          No paga Pensión   \n",
              "544533             CHOCO  Cabecera Municipal          No paga Pensión   \n",
              "544534             HUILA  Cabecera Municipal            250.000 o más   \n",
              "\n",
              "       ESTU_VECESPRESENTOEXAMEN FAMI_ESTRATOVIVIENDA  \\\n",
              "0                   Ninguna vez            Estrato 2   \n",
              "1                   Ninguna vez            Estrato 2   \n",
              "2                   Ninguna vez            Estrato 2   \n",
              "3                   Ninguna vez            Estrato 2   \n",
              "4                   Ninguna vez            Estrato 2   \n",
              "...                         ...                  ...   \n",
              "544530              Ninguna vez            Estrato 1   \n",
              "544531              Ninguna vez            Estrato 1   \n",
              "544532              Ninguna vez            Estrato 1   \n",
              "544533              Ninguna vez            Estrato 2   \n",
              "544534              Ninguna vez            Estrato 4   \n",
              "\n",
              "                                          FAMI_PISOSHOGAR  ...  \\\n",
              "0                             Cemento, gravilla, ladrillo  ...   \n",
              "1                             Cemento, gravilla, ladrillo  ...   \n",
              "2       Madera pulida, baldosa, tableta, mármol, alfombra  ...   \n",
              "3                             Cemento, gravilla, ladrillo  ...   \n",
              "4                             Cemento, gravilla, ladrillo  ...   \n",
              "...                                                   ...  ...   \n",
              "544530                        Cemento, gravilla, ladrillo  ...   \n",
              "544531                        Cemento, gravilla, ladrillo  ...   \n",
              "544532                        Cemento, gravilla, ladrillo  ...   \n",
              "544533                        Cemento, gravilla, ladrillo  ...   \n",
              "544534  Madera pulida, baldosa, tableta, mármol, alfombra  ...   \n",
              "\n",
              "       FAMI_TIENE_CELULAR  FAMI_INGRESOFMILIARMENSUAL  \\\n",
              "0                      Si   Entre 1 y menos de 2 SMLV   \n",
              "1                      Si   Entre 1 y menos de 2 SMLV   \n",
              "2                      Si   Entre 1 y menos de 2 SMLV   \n",
              "3                      Si             Menos de 1 SMLV   \n",
              "4                      Si   Entre 1 y menos de 2 SMLV   \n",
              "...                   ...                         ...   \n",
              "544530                 Si   Entre 1 y menos de 2 SMLV   \n",
              "544531                 Si   Entre 1 y menos de 2 SMLV   \n",
              "544532                 Si             Menos de 1 SMLV   \n",
              "544533                 Si   Entre 3 y menos de 5 SMLV   \n",
              "544534                 Si  Entre 7 y menos de 10 SMLV   \n",
              "\n",
              "               ESTU_TRABAJAACTUALMENTE COLE_GENERO COLE_CALENDARIO  \\\n",
              "0                                   No       MIXTO               A   \n",
              "1                                   No       MIXTO               A   \n",
              "2                                   No       MIXTO               A   \n",
              "3                                   No       MIXTO               A   \n",
              "4                                   No       MIXTO               A   \n",
              "...                                ...         ...             ...   \n",
              "544530                              No       MIXTO               A   \n",
              "544531                              No       MIXTO               A   \n",
              "544532  Si, 20 horas o más a la semana       MIXTO               A   \n",
              "544533                              No       MIXTO               A   \n",
              "544534                              No       MIXTO               A   \n",
              "\n",
              "       COLE_BILINGUE      COLE_CARACTER COLE_AREA_UBICACION COLE_JORNADA  \\\n",
              "0                  N  TÉCNICO/ACADÉMICO              URBANO        TARDE   \n",
              "1                  N  TÉCNICO/ACADÉMICO              URBANO        TARDE   \n",
              "2                  N  TÉCNICO/ACADÉMICO              URBANO        TARDE   \n",
              "3                  N  TÉCNICO/ACADÉMICO              URBANO        TARDE   \n",
              "4                  N  TÉCNICO/ACADÉMICO              URBANO        TARDE   \n",
              "...              ...                ...                 ...          ...   \n",
              "544530             N  TÉCNICO/ACADÉMICO               RURAL        NOCHE   \n",
              "544531             N  TÉCNICO/ACADÉMICO               RURAL        NOCHE   \n",
              "544532           NaN          ACADÉMICO              URBANO     SABATINA   \n",
              "544533             N          ACADÉMICO              URBANO       MAÑANA   \n",
              "544534             N          ACADÉMICO              URBANO     COMPLETA   \n",
              "\n",
              "       PUNT_GLOBAL  \n",
              "0              211  \n",
              "1              222  \n",
              "2              247  \n",
              "3              203  \n",
              "4              286  \n",
              "...            ...  \n",
              "544530         254  \n",
              "544531         177  \n",
              "544532         190  \n",
              "544533         192  \n",
              "544534         254  \n",
              "\n",
              "[544535 rows x 33 columns]>"
            ]
          },
          "metadata": {},
          "execution_count": 5
        }
      ],
      "source": [
        "new_df.info"
      ]
    },
    {
      "cell_type": "code",
      "execution_count": null,
      "metadata": {
        "colab": {
          "base_uri": "https://localhost:8080/"
        },
        "id": "MoG-1pa_rXJp",
        "outputId": "3623f102-8138-4518-cc1e-15629cca290b"
      },
      "outputs": [
        {
          "output_type": "stream",
          "name": "stdout",
          "text": [
            "ESTU_NACIONALIDAD                 0\n",
            "ESTU_GENERO                     509\n",
            "ESTU_FECHANACIMIENTO              0\n",
            "ESTU_ETNIA                    57441\n",
            "ESTU_DEPTO_RESIDE               153\n",
            "ESTU_AREARESIDE                1914\n",
            "ESTU_VALORPENSIONCOLEGIO       1918\n",
            "ESTU_VECESPRESENTOEXAMEN       1918\n",
            "FAMI_ESTRATOVIVIENDA           1902\n",
            "FAMI_PISOSHOGAR                1902\n",
            "FAMI_PERSONASHOGAR             1902\n",
            "FAMI_EDUCACIONPADRE            1902\n",
            "FAMI_EDUCACIONMADRE            1902\n",
            "FAMI_OCUPACIONPADRE            1902\n",
            "FAMI_OCUPACIONMADRE            1903\n",
            "FAMI_TIENEINTERNET             1902\n",
            "FAMI_TIENESERVICIOTV           1902\n",
            "FAMI_TELEFONO                  1902\n",
            "FAMI_TIENECOMPUTADOR           1902\n",
            "FAMI_TIENELAVADORA             1902\n",
            "FAMI_TIENEMICROONDAS           1902\n",
            "FAMI_TIENEAUTOMOVIL            1902\n",
            "FAMI_TIENE_NEVERA              1902\n",
            "FAMI_TIENE_CELULAR             1902\n",
            "FAMI_INGRESOFMILIARMENSUAL     1902\n",
            "ESTU_TRABAJAACTUALMENTE        1901\n",
            "COLE_GENERO                       0\n",
            "COLE_CALENDARIO                   0\n",
            "COLE_BILINGUE                 61462\n",
            "COLE_CARACTER                  1941\n",
            "COLE_AREA_UBICACION               5\n",
            "COLE_JORNADA                      0\n",
            "PUNT_GLOBAL                       0\n",
            "dtype: int64\n"
          ]
        }
      ],
      "source": [
        "null_counts = new_df.isnull().sum()\n",
        "\n",
        "# Mostrar el número de valores nulos en cada columna\n",
        "print(null_counts)"
      ]
    },
    {
      "cell_type": "code",
      "execution_count": null,
      "metadata": {
        "colab": {
          "base_uri": "https://localhost:8080/"
        },
        "id": "lsWDn3bSr3QT",
        "outputId": "0cae0ecd-823c-48ac-8fe7-79199c447a16"
      },
      "outputs": [
        {
          "output_type": "stream",
          "name": "stderr",
          "text": [
            "<ipython-input-7-43efff98f219>:1: SettingWithCopyWarning: \n",
            "A value is trying to be set on a copy of a slice from a DataFrame\n",
            "\n",
            "See the caveats in the documentation: https://pandas.pydata.org/pandas-docs/stable/user_guide/indexing.html#returning-a-view-versus-a-copy\n",
            "  new_df['COLE_BILINGUE'].fillna(value='N', inplace=True)\n",
            "<ipython-input-7-43efff98f219>:2: SettingWithCopyWarning: \n",
            "A value is trying to be set on a copy of a slice from a DataFrame\n",
            "\n",
            "See the caveats in the documentation: https://pandas.pydata.org/pandas-docs/stable/user_guide/indexing.html#returning-a-view-versus-a-copy\n",
            "  new_df['ESTU_ETNIA'].fillna(value='Ninguno', inplace=True)\n"
          ]
        }
      ],
      "source": [
        "new_df['COLE_BILINGUE'].fillna(value='N', inplace=True)\n",
        "new_df['ESTU_ETNIA'].fillna(value='Ninguno', inplace=True)"
      ]
    },
    {
      "cell_type": "code",
      "execution_count": null,
      "metadata": {
        "colab": {
          "base_uri": "https://localhost:8080/"
        },
        "id": "QRvPyLKhr4xh",
        "outputId": "54314b5e-2cef-4ab6-e5e7-d7821f32dddd"
      },
      "outputs": [
        {
          "output_type": "stream",
          "name": "stdout",
          "text": [
            "ESTU_NACIONALIDAD                0\n",
            "ESTU_GENERO                    509\n",
            "ESTU_FECHANACIMIENTO             0\n",
            "ESTU_ETNIA                       0\n",
            "ESTU_DEPTO_RESIDE              153\n",
            "ESTU_AREARESIDE               1914\n",
            "ESTU_VALORPENSIONCOLEGIO      1918\n",
            "ESTU_VECESPRESENTOEXAMEN      1918\n",
            "FAMI_ESTRATOVIVIENDA          1902\n",
            "FAMI_PISOSHOGAR               1902\n",
            "FAMI_PERSONASHOGAR            1902\n",
            "FAMI_EDUCACIONPADRE           1902\n",
            "FAMI_EDUCACIONMADRE           1902\n",
            "FAMI_OCUPACIONPADRE           1902\n",
            "FAMI_OCUPACIONMADRE           1903\n",
            "FAMI_TIENEINTERNET            1902\n",
            "FAMI_TIENESERVICIOTV          1902\n",
            "FAMI_TELEFONO                 1902\n",
            "FAMI_TIENECOMPUTADOR          1902\n",
            "FAMI_TIENELAVADORA            1902\n",
            "FAMI_TIENEMICROONDAS          1902\n",
            "FAMI_TIENEAUTOMOVIL           1902\n",
            "FAMI_TIENE_NEVERA             1902\n",
            "FAMI_TIENE_CELULAR            1902\n",
            "FAMI_INGRESOFMILIARMENSUAL    1902\n",
            "ESTU_TRABAJAACTUALMENTE       1901\n",
            "COLE_GENERO                      0\n",
            "COLE_CALENDARIO                  0\n",
            "COLE_BILINGUE                    0\n",
            "COLE_CARACTER                 1941\n",
            "COLE_AREA_UBICACION              5\n",
            "COLE_JORNADA                     0\n",
            "PUNT_GLOBAL                      0\n",
            "dtype: int64\n"
          ]
        }
      ],
      "source": [
        "null_counts = new_df.isnull().sum()\n",
        "\n",
        "# Mostrar el número de valores nulos en cada columna\n",
        "print(null_counts)"
      ]
    },
    {
      "cell_type": "code",
      "execution_count": null,
      "metadata": {
        "colab": {
          "base_uri": "https://localhost:8080/"
        },
        "id": "y9Xe9Jgvv5PB",
        "outputId": "9b4d09b6-b5c6-404e-dd8d-f3b9ff1d7a92"
      },
      "outputs": [
        {
          "output_type": "execute_result",
          "data": {
            "text/plain": [
              "<bound method DataFrame.info of        ESTU_NACIONALIDAD ESTU_GENERO ESTU_FECHANACIMIENTO ESTU_ETNIA  \\\n",
              "0               COLOMBIA           F           28/02/1997    Ninguno   \n",
              "1               COLOMBIA           F           02/11/1995    Ninguno   \n",
              "2               COLOMBIA           F           30/01/1998    Ninguno   \n",
              "3               COLOMBIA           M           02/05/1996    Ninguno   \n",
              "4               COLOMBIA           M           21/01/1998    Ninguno   \n",
              "...                  ...         ...                  ...        ...   \n",
              "544530          COLOMBIA           F           15/06/1990    Ninguno   \n",
              "544531          COLOMBIA           M           24/06/1995    Ninguno   \n",
              "544532          COLOMBIA           M           14/01/1997    Ninguno   \n",
              "544533          COLOMBIA           F           24/03/1998    Ninguno   \n",
              "544534          COLOMBIA           M           09/12/1996    Ninguno   \n",
              "\n",
              "       ESTU_DEPTO_RESIDE     ESTU_AREARESIDE ESTU_VALORPENSIONCOLEGIO  \\\n",
              "0              ANTIOQUIA  Cabecera Municipal          No paga Pensión   \n",
              "1              ANTIOQUIA  Cabecera Municipal          No paga Pensión   \n",
              "2              ANTIOQUIA  Cabecera Municipal          No paga Pensión   \n",
              "3              ANTIOQUIA  Cabecera Municipal          No paga Pensión   \n",
              "4              ANTIOQUIA  Cabecera Municipal          No paga Pensión   \n",
              "...                  ...                 ...                      ...   \n",
              "544530         MAGDALENA          Area Rural          No paga Pensión   \n",
              "544531         MAGDALENA          Area Rural          No paga Pensión   \n",
              "544532            NARIÑO          Area Rural          No paga Pensión   \n",
              "544533             CHOCO  Cabecera Municipal          No paga Pensión   \n",
              "544534             HUILA  Cabecera Municipal            250.000 o más   \n",
              "\n",
              "       ESTU_VECESPRESENTOEXAMEN FAMI_ESTRATOVIVIENDA  \\\n",
              "0                   Ninguna vez            Estrato 2   \n",
              "1                   Ninguna vez            Estrato 2   \n",
              "2                   Ninguna vez            Estrato 2   \n",
              "3                   Ninguna vez            Estrato 2   \n",
              "4                   Ninguna vez            Estrato 2   \n",
              "...                         ...                  ...   \n",
              "544530              Ninguna vez            Estrato 1   \n",
              "544531              Ninguna vez            Estrato 1   \n",
              "544532              Ninguna vez            Estrato 1   \n",
              "544533              Ninguna vez            Estrato 2   \n",
              "544534              Ninguna vez            Estrato 4   \n",
              "\n",
              "                                          FAMI_PISOSHOGAR  ...  \\\n",
              "0                             Cemento, gravilla, ladrillo  ...   \n",
              "1                             Cemento, gravilla, ladrillo  ...   \n",
              "2       Madera pulida, baldosa, tableta, mármol, alfombra  ...   \n",
              "3                             Cemento, gravilla, ladrillo  ...   \n",
              "4                             Cemento, gravilla, ladrillo  ...   \n",
              "...                                                   ...  ...   \n",
              "544530                        Cemento, gravilla, ladrillo  ...   \n",
              "544531                        Cemento, gravilla, ladrillo  ...   \n",
              "544532                        Cemento, gravilla, ladrillo  ...   \n",
              "544533                        Cemento, gravilla, ladrillo  ...   \n",
              "544534  Madera pulida, baldosa, tableta, mármol, alfombra  ...   \n",
              "\n",
              "       FAMI_TIENE_CELULAR  FAMI_INGRESOFMILIARMENSUAL  \\\n",
              "0                      Si   Entre 1 y menos de 2 SMLV   \n",
              "1                      Si   Entre 1 y menos de 2 SMLV   \n",
              "2                      Si   Entre 1 y menos de 2 SMLV   \n",
              "3                      Si             Menos de 1 SMLV   \n",
              "4                      Si   Entre 1 y menos de 2 SMLV   \n",
              "...                   ...                         ...   \n",
              "544530                 Si   Entre 1 y menos de 2 SMLV   \n",
              "544531                 Si   Entre 1 y menos de 2 SMLV   \n",
              "544532                 Si             Menos de 1 SMLV   \n",
              "544533                 Si   Entre 3 y menos de 5 SMLV   \n",
              "544534                 Si  Entre 7 y menos de 10 SMLV   \n",
              "\n",
              "               ESTU_TRABAJAACTUALMENTE COLE_GENERO COLE_CALENDARIO  \\\n",
              "0                                   No       MIXTO               A   \n",
              "1                                   No       MIXTO               A   \n",
              "2                                   No       MIXTO               A   \n",
              "3                                   No       MIXTO               A   \n",
              "4                                   No       MIXTO               A   \n",
              "...                                ...         ...             ...   \n",
              "544530                              No       MIXTO               A   \n",
              "544531                              No       MIXTO               A   \n",
              "544532  Si, 20 horas o más a la semana       MIXTO               A   \n",
              "544533                              No       MIXTO               A   \n",
              "544534                              No       MIXTO               A   \n",
              "\n",
              "       COLE_BILINGUE      COLE_CARACTER COLE_AREA_UBICACION COLE_JORNADA  \\\n",
              "0                  N  TÉCNICO/ACADÉMICO              URBANO        TARDE   \n",
              "1                  N  TÉCNICO/ACADÉMICO              URBANO        TARDE   \n",
              "2                  N  TÉCNICO/ACADÉMICO              URBANO        TARDE   \n",
              "3                  N  TÉCNICO/ACADÉMICO              URBANO        TARDE   \n",
              "4                  N  TÉCNICO/ACADÉMICO              URBANO        TARDE   \n",
              "...              ...                ...                 ...          ...   \n",
              "544530             N  TÉCNICO/ACADÉMICO               RURAL        NOCHE   \n",
              "544531             N  TÉCNICO/ACADÉMICO               RURAL        NOCHE   \n",
              "544532             N          ACADÉMICO              URBANO     SABATINA   \n",
              "544533             N          ACADÉMICO              URBANO       MAÑANA   \n",
              "544534             N          ACADÉMICO              URBANO     COMPLETA   \n",
              "\n",
              "       PUNT_GLOBAL  \n",
              "0              211  \n",
              "1              222  \n",
              "2              247  \n",
              "3              203  \n",
              "4              286  \n",
              "...            ...  \n",
              "544530         254  \n",
              "544531         177  \n",
              "544532         190  \n",
              "544533         192  \n",
              "544534         254  \n",
              "\n",
              "[540837 rows x 33 columns]>"
            ]
          },
          "metadata": {},
          "execution_count": 9
        }
      ],
      "source": [
        "copy_df = new_df.dropna()\n",
        "copy_df.info"
      ]
    },
    {
      "cell_type": "code",
      "execution_count": null,
      "metadata": {
        "colab": {
          "base_uri": "https://localhost:8080/"
        },
        "id": "3pjy0HS5xnjt",
        "outputId": "2f55afb1-8a12-4a5b-d969-c204df9bac2a"
      },
      "outputs": [
        {
          "output_type": "display_data",
          "data": {
            "text/plain": [
              "<Figure size 640x480 with 1 Axes>"
            ],
            "image/png": "[encoded data removed]"
          },
          "metadata": {}
        }
      ],
      "source": [
        "import matplotlib.pyplot as plt\n",
        "\n",
        "# Supongamos que tienes un DataFrame llamado 'df' con la columna 'ESTU_ETNIA'\n",
        "\n",
        "# Calcula la frecuencia de cada valor en la columna 'ESTU_ETNIA'\n",
        "frequencies = copy_df['ESTU_ETNIA'].value_counts()\n",
        "\n",
        "# Crea una figura y ejes para el gráfico de barras\n",
        "fig, ax = plt.subplots()\n",
        "\n",
        "# Genera el gráfico de barras utilizando las frecuencias\n",
        "frequencies.plot(kind='bar', ax=ax)\n",
        "\n",
        "# Personaliza el gráfico y sus etiquetas\n",
        "ax.set_xlabel('Etnia')\n",
        "ax.set_ylabel('Frecuencia')\n",
        "ax.set_title('Frecuencia de Etnias')\n",
        "\n",
        "# Muestra el gráfico\n",
        "plt.show()\n",
        "\n",
        "\n",
        "\n"
      ]
    },
    {
      "cell_type": "code",
      "execution_count": null,
      "metadata": {
        "colab": {
          "base_uri": "https://localhost:8080/"
        },
        "id": "zkMvLA0lz-BU",
        "outputId": "039b1112-d49c-41de-e65b-c571e4c36f88"
      },
      "outputs": [
        {
          "output_type": "stream",
          "name": "stderr",
          "text": [
            "<ipython-input-11-c449e9dd5d84>:11: SettingWithCopyWarning: \n",
            "A value is trying to be set on a copy of a slice from a DataFrame.\n",
            "Try using .loc[row_indexer,col_indexer] = value instead\n",
            "\n",
            "See the caveats in the documentation: https://pandas.pydata.org/pandas-docs/stable/user_guide/indexing.html#returning-a-view-versus-a-copy\n",
            "  copy_df['ESTU_ETNIA'] = copy_df['ESTU_ETNIA'].map(transform_etnia)\n"
          ]
        },
        {
          "output_type": "stream",
          "name": "stdout",
          "text": [
            "       ESTU_NACIONALIDAD ESTU_GENERO ESTU_FECHANACIMIENTO ESTU_ETNIA  \\\n",
            "0               COLOMBIA           F           28/02/1997    Ninguno   \n",
            "1               COLOMBIA           F           02/11/1995    Ninguno   \n",
            "2               COLOMBIA           F           30/01/1998    Ninguno   \n",
            "3               COLOMBIA           M           02/05/1996    Ninguno   \n",
            "4               COLOMBIA           M           21/01/1998    Ninguno   \n",
            "...                  ...         ...                  ...        ...   \n",
            "544530          COLOMBIA           F           15/06/1990    Ninguno   \n",
            "544531          COLOMBIA           M           24/06/1995    Ninguno   \n",
            "544532          COLOMBIA           M           14/01/1997    Ninguno   \n",
            "544533          COLOMBIA           F           24/03/1998    Ninguno   \n",
            "544534          COLOMBIA           M           09/12/1996    Ninguno   \n",
            "\n",
            "       ESTU_DEPTO_RESIDE     ESTU_AREARESIDE ESTU_VALORPENSIONCOLEGIO  \\\n",
            "0              ANTIOQUIA  Cabecera Municipal          No paga Pensión   \n",
            "1              ANTIOQUIA  Cabecera Municipal          No paga Pensión   \n",
            "2              ANTIOQUIA  Cabecera Municipal          No paga Pensión   \n",
            "3              ANTIOQUIA  Cabecera Municipal          No paga Pensión   \n",
            "4              ANTIOQUIA  Cabecera Municipal          No paga Pensión   \n",
            "...                  ...                 ...                      ...   \n",
            "544530         MAGDALENA          Area Rural          No paga Pensión   \n",
            "544531         MAGDALENA          Area Rural          No paga Pensión   \n",
            "544532            NARIÑO          Area Rural          No paga Pensión   \n",
            "544533             CHOCO  Cabecera Municipal          No paga Pensión   \n",
            "544534             HUILA  Cabecera Municipal            250.000 o más   \n",
            "\n",
            "       ESTU_VECESPRESENTOEXAMEN FAMI_ESTRATOVIVIENDA  \\\n",
            "0                   Ninguna vez            Estrato 2   \n",
            "1                   Ninguna vez            Estrato 2   \n",
            "2                   Ninguna vez            Estrato 2   \n",
            "3                   Ninguna vez            Estrato 2   \n",
            "4                   Ninguna vez            Estrato 2   \n",
            "...                         ...                  ...   \n",
            "544530              Ninguna vez            Estrato 1   \n",
            "544531              Ninguna vez            Estrato 1   \n",
            "544532              Ninguna vez            Estrato 1   \n",
            "544533              Ninguna vez            Estrato 2   \n",
            "544534              Ninguna vez            Estrato 4   \n",
            "\n",
            "                                          FAMI_PISOSHOGAR  ...  \\\n",
            "0                             Cemento, gravilla, ladrillo  ...   \n",
            "1                             Cemento, gravilla, ladrillo  ...   \n",
            "2       Madera pulida, baldosa, tableta, mármol, alfombra  ...   \n",
            "3                             Cemento, gravilla, ladrillo  ...   \n",
            "4                             Cemento, gravilla, ladrillo  ...   \n",
            "...                                                   ...  ...   \n",
            "544530                        Cemento, gravilla, ladrillo  ...   \n",
            "544531                        Cemento, gravilla, ladrillo  ...   \n",
            "544532                        Cemento, gravilla, ladrillo  ...   \n",
            "544533                        Cemento, gravilla, ladrillo  ...   \n",
            "544534  Madera pulida, baldosa, tableta, mármol, alfombra  ...   \n",
            "\n",
            "       FAMI_TIENE_CELULAR  FAMI_INGRESOFMILIARMENSUAL  \\\n",
            "0                      Si   Entre 1 y menos de 2 SMLV   \n",
            "1                      Si   Entre 1 y menos de 2 SMLV   \n",
            "2                      Si   Entre 1 y menos de 2 SMLV   \n",
            "3                      Si             Menos de 1 SMLV   \n",
            "4                      Si   Entre 1 y menos de 2 SMLV   \n",
            "...                   ...                         ...   \n",
            "544530                 Si   Entre 1 y menos de 2 SMLV   \n",
            "544531                 Si   Entre 1 y menos de 2 SMLV   \n",
            "544532                 Si             Menos de 1 SMLV   \n",
            "544533                 Si   Entre 3 y menos de 5 SMLV   \n",
            "544534                 Si  Entre 7 y menos de 10 SMLV   \n",
            "\n",
            "               ESTU_TRABAJAACTUALMENTE COLE_GENERO COLE_CALENDARIO  \\\n",
            "0                                   No       MIXTO               A   \n",
            "1                                   No       MIXTO               A   \n",
            "2                                   No       MIXTO               A   \n",
            "3                                   No       MIXTO               A   \n",
            "4                                   No       MIXTO               A   \n",
            "...                                ...         ...             ...   \n",
            "544530                              No       MIXTO               A   \n",
            "544531                              No       MIXTO               A   \n",
            "544532  Si, 20 horas o más a la semana       MIXTO               A   \n",
            "544533                              No       MIXTO               A   \n",
            "544534                              No       MIXTO               A   \n",
            "\n",
            "       COLE_BILINGUE      COLE_CARACTER COLE_AREA_UBICACION COLE_JORNADA  \\\n",
            "0                  N  TÉCNICO/ACADÉMICO              URBANO        TARDE   \n",
            "1                  N  TÉCNICO/ACADÉMICO              URBANO        TARDE   \n",
            "2                  N  TÉCNICO/ACADÉMICO              URBANO        TARDE   \n",
            "3                  N  TÉCNICO/ACADÉMICO              URBANO        TARDE   \n",
            "4                  N  TÉCNICO/ACADÉMICO              URBANO        TARDE   \n",
            "...              ...                ...                 ...          ...   \n",
            "544530             N  TÉCNICO/ACADÉMICO               RURAL        NOCHE   \n",
            "544531             N  TÉCNICO/ACADÉMICO               RURAL        NOCHE   \n",
            "544532             N          ACADÉMICO              URBANO     SABATINA   \n",
            "544533             N          ACADÉMICO              URBANO       MAÑANA   \n",
            "544534             N          ACADÉMICO              URBANO     COMPLETA   \n",
            "\n",
            "       PUNT_GLOBAL  \n",
            "0              211  \n",
            "1              222  \n",
            "2              247  \n",
            "3              203  \n",
            "4              286  \n",
            "...            ...  \n",
            "544530         254  \n",
            "544531         177  \n",
            "544532         190  \n",
            "544533         192  \n",
            "544534         254  \n",
            "\n",
            "[540837 rows x 33 columns]\n"
          ]
        }
      ],
      "source": [
        "# Supongamos que tienes un DataFrame llamado 'df' con la columna 'ESTU_ETNIA'\n",
        "\n",
        "# Define la función de transformación\n",
        "def transform_etnia(value):\n",
        "    if value == 'Ninguno':\n",
        "        return value\n",
        "    else:\n",
        "        return 'grupo minoritario'\n",
        "\n",
        "# Aplica la función de transformación a la columna 'ESTU_ETNIA'\n",
        "copy_df['ESTU_ETNIA'] = copy_df['ESTU_ETNIA'].map(transform_etnia)\n",
        "\n",
        "# Muestra el DataFrame con la columna transformada\n",
        "print(copy_df)"
      ]
    },
    {
      "cell_type": "code",
      "execution_count": null,
      "metadata": {
        "colab": {
          "base_uri": "https://localhost:8080/",
          "height": 429
        },
        "id": "JvAJ37wL1fra",
        "outputId": "f1c2ec55-3226-477e-9369-6c62f8100e7b"
      },
      "outputs": [
        {
          "output_type": "display_data",
          "data": {
            "text/plain": [
              "<Figure size 640x480 with 1 Axes>"
            ],
            "image/png": "[encoded data removed]"
          },
          "metadata": {}
        }
      ],
      "source": [
        "import matplotlib.pyplot as plt\n",
        "\n",
        "# Cuenta los valores de la columna 'ESTU_ETNIA'\n",
        "conteo_valores = copy_df['ESTU_ETNIA'].value_counts()\n",
        "\n",
        "# Extrae los valores y las etiquetas\n",
        "valores = conteo_valores.values\n",
        "etiquetas = conteo_valores.index\n",
        "\n",
        "# Crea un gráfico de pastel\n",
        "plt.pie(valores, labels=etiquetas, autopct='%1.1f%%')\n",
        "plt.title('Distribución de ESTU_ETNIA')\n",
        "plt.axis('equal')  # Para que el gráfico sea un círculo en lugar de una elipse\n",
        "plt.show()\n"
      ]
    },
    {
      "cell_type": "code",
      "execution_count": null,
      "metadata": {
        "colab": {
          "base_uri": "https://localhost:8080/"
        },
        "id": "m_UaBS9V13Py",
        "outputId": "ba27af4c-1363-491d-fa0a-d2344cdd6092"
      },
      "outputs": [
        {
          "output_type": "stream",
          "name": "stdout",
          "text": [
            "[515316  25521]\n"
          ]
        }
      ],
      "source": [
        "print(valores)"
      ]
    },
    {
      "cell_type": "code",
      "execution_count": null,
      "metadata": {
        "colab": {
          "base_uri": "https://localhost:8080/"
        },
        "id": "OPhReN9G2XrB",
        "outputId": "60559913-c8b7-495e-bf00-94a27243b29c"
      },
      "outputs": [
        {
          "output_type": "stream",
          "name": "stdout",
          "text": [
            "Index(['Ninguno', 'grupo minoritario'], dtype='object')\n"
          ]
        }
      ],
      "source": [
        "print(etiquetas)"
      ]
    },
    {
      "cell_type": "code",
      "execution_count": null,
      "metadata": {
        "colab": {
          "base_uri": "https://localhost:8080/"
        },
        "id": "lxvrJTda22I6",
        "outputId": "ef40218d-098f-4dab-c4a3-55cdf4b9104e"
      },
      "outputs": [
        {
          "output_type": "display_data",
          "data": {
            "text/plain": [
              "<Figure size 640x480 with 1 Axes>"
            ],
            "image/png": "[encoded data removed]"
          },
          "metadata": {}
        }
      ],
      "source": [
        "# Calcula la frecuencia de cada valor en la columna 'ESTU_ETNIA'\n",
        "frequencies = copy_df['ESTU_DEPTO_RESIDE'].value_counts()\n",
        "\n",
        "# Crea una figura y ejes para el gráfico de barras\n",
        "fig, ax = plt.subplots()\n",
        "\n",
        "# Genera el gráfico de barras utilizando las frecuencias\n",
        "frequencies.plot(kind='bar', ax=ax)\n",
        "\n",
        "# Personaliza el gráfico y sus etiquetas\n",
        "\n",
        "# Muestra el gráfico\n",
        "plt.show()\n"
      ]
    },
    {
      "cell_type": "code",
      "execution_count": null,
      "metadata": {
        "colab": {
          "base_uri": "https://localhost:8080/"
        },
        "id": "aeO3qQqn6LXg",
        "outputId": "f8135733-7184-4994-c456-70b159275517"
      },
      "outputs": [
        {
          "output_type": "stream",
          "name": "stdout",
          "text": [
            "Index(['BOGOTÁ', 'ANTIOQUIA', 'VALLE', 'CUNDINAMARCA', 'ATLANTICO',\n",
            "       'SANTANDER', 'BOLIVAR', 'CORDOBA', 'BOYACA', 'NARIÑO', 'TOLIMA',\n",
            "       'NORTE SANTANDER', 'MAGDALENA', 'HUILA', 'CAUCA', 'CESAR', 'CALDAS',\n",
            "       'META', 'SUCRE', 'RISARALDA', 'QUINDIO', 'LA GUAJIRA', 'CASANARE',\n",
            "       'PUTUMAYO', 'CAQUETA', 'CHOCO', 'ARAUCA', 'GUAVIARE', 'AMAZONAS',\n",
            "       'SAN ANDRES', 'VICHADA', 'VAUPES', 'GUAINIA'],\n",
            "      dtype='object')\n"
          ]
        }
      ],
      "source": [
        "# Cuenta los valores de la columna 'ESTU_ETNIA'\n",
        "conteo_valores = copy_df['ESTU_DEPTO_RESIDE'].value_counts()\n",
        "\n",
        "# Extrae los valores y las etiquetas\n",
        "valores = conteo_valores.values\n",
        "etiquetas = conteo_valores.index\n",
        "\n",
        "print(etiquetas)"
      ]
    },
    {
      "cell_type": "code",
      "execution_count": null,
      "metadata": {
        "colab": {
          "base_uri": "https://localhost:8080/"
        },
        "id": "WD5RAglr6ykf",
        "outputId": "bb32d3bf-c3e9-4f8f-b25e-3eae45e8fe26"
      },
      "outputs": [
        {
          "output_type": "stream",
          "name": "stdout",
          "text": [
            "[91019 73306 40947 34539 27836 26791 24463 18444 17367 17125 16870 15448\n",
            " 14973 14015 13758 12091 11747 11212 10927 10607  7074  6762  5802  3925\n",
            "  3910  3838  2738   915   719   638   461   315   255]\n"
          ]
        }
      ],
      "source": [
        "print(valores)"
      ]
    },
    {
      "cell_type": "code",
      "execution_count": null,
      "metadata": {
        "colab": {
          "base_uri": "https://localhost:8080/"
        },
        "id": "6s6UqHXr7G-f",
        "outputId": "a1627b8c-d4c5-410f-afc3-b375917a0f28"
      },
      "outputs": [
        {
          "output_type": "stream",
          "name": "stdout",
          "text": [
            "       ESTU_NACIONALIDAD ESTU_GENERO ESTU_FECHANACIMIENTO ESTU_ETNIA  \\\n",
            "0               COLOMBIA           F           28/02/1997    Ninguno   \n",
            "1               COLOMBIA           F           02/11/1995    Ninguno   \n",
            "2               COLOMBIA           F           30/01/1998    Ninguno   \n",
            "3               COLOMBIA           M           02/05/1996    Ninguno   \n",
            "4               COLOMBIA           M           21/01/1998    Ninguno   \n",
            "...                  ...         ...                  ...        ...   \n",
            "544530          COLOMBIA           F           15/06/1990    Ninguno   \n",
            "544531          COLOMBIA           M           24/06/1995    Ninguno   \n",
            "544532          COLOMBIA           M           14/01/1997    Ninguno   \n",
            "544533          COLOMBIA           F           24/03/1998    Ninguno   \n",
            "544534          COLOMBIA           M           09/12/1996    Ninguno   \n",
            "\n",
            "       ESTU_DEPTO_RESIDE     ESTU_AREARESIDE ESTU_VALORPENSIONCOLEGIO  \\\n",
            "0              ANTIOQUIA  Cabecera Municipal          No paga Pensión   \n",
            "1              ANTIOQUIA  Cabecera Municipal          No paga Pensión   \n",
            "2              ANTIOQUIA  Cabecera Municipal          No paga Pensión   \n",
            "3              ANTIOQUIA  Cabecera Municipal          No paga Pensión   \n",
            "4              ANTIOQUIA  Cabecera Municipal          No paga Pensión   \n",
            "...                  ...                 ...                      ...   \n",
            "544530              OTRO          Area Rural          No paga Pensión   \n",
            "544531              OTRO          Area Rural          No paga Pensión   \n",
            "544532            NARIÑO          Area Rural          No paga Pensión   \n",
            "544533              OTRO  Cabecera Municipal          No paga Pensión   \n",
            "544534              OTRO  Cabecera Municipal            250.000 o más   \n",
            "\n",
            "       ESTU_VECESPRESENTOEXAMEN FAMI_ESTRATOVIVIENDA  \\\n",
            "0                   Ninguna vez            Estrato 2   \n",
            "1                   Ninguna vez            Estrato 2   \n",
            "2                   Ninguna vez            Estrato 2   \n",
            "3                   Ninguna vez            Estrato 2   \n",
            "4                   Ninguna vez            Estrato 2   \n",
            "...                         ...                  ...   \n",
            "544530              Ninguna vez            Estrato 1   \n",
            "544531              Ninguna vez            Estrato 1   \n",
            "544532              Ninguna vez            Estrato 1   \n",
            "544533              Ninguna vez            Estrato 2   \n",
            "544534              Ninguna vez            Estrato 4   \n",
            "\n",
            "                                          FAMI_PISOSHOGAR  ...  \\\n",
            "0                             Cemento, gravilla, ladrillo  ...   \n",
            "1                             Cemento, gravilla, ladrillo  ...   \n",
            "2       Madera pulida, baldosa, tableta, mármol, alfombra  ...   \n",
            "3                             Cemento, gravilla, ladrillo  ...   \n",
            "4                             Cemento, gravilla, ladrillo  ...   \n",
            "...                                                   ...  ...   \n",
            "544530                        Cemento, gravilla, ladrillo  ...   \n",
            "544531                        Cemento, gravilla, ladrillo  ...   \n",
            "544532                        Cemento, gravilla, ladrillo  ...   \n",
            "544533                        Cemento, gravilla, ladrillo  ...   \n",
            "544534  Madera pulida, baldosa, tableta, mármol, alfombra  ...   \n",
            "\n",
            "       FAMI_TIENE_CELULAR  FAMI_INGRESOFMILIARMENSUAL  \\\n",
            "0                      Si   Entre 1 y menos de 2 SMLV   \n",
            "1                      Si   Entre 1 y menos de 2 SMLV   \n",
            "2                      Si   Entre 1 y menos de 2 SMLV   \n",
            "3                      Si             Menos de 1 SMLV   \n",
            "4                      Si   Entre 1 y menos de 2 SMLV   \n",
            "...                   ...                         ...   \n",
            "544530                 Si   Entre 1 y menos de 2 SMLV   \n",
            "544531                 Si   Entre 1 y menos de 2 SMLV   \n",
            "544532                 Si             Menos de 1 SMLV   \n",
            "544533                 Si   Entre 3 y menos de 5 SMLV   \n",
            "544534                 Si  Entre 7 y menos de 10 SMLV   \n",
            "\n",
            "               ESTU_TRABAJAACTUALMENTE COLE_GENERO COLE_CALENDARIO  \\\n",
            "0                                   No       MIXTO               A   \n",
            "1                                   No       MIXTO               A   \n",
            "2                                   No       MIXTO               A   \n",
            "3                                   No       MIXTO               A   \n",
            "4                                   No       MIXTO               A   \n",
            "...                                ...         ...             ...   \n",
            "544530                              No       MIXTO               A   \n",
            "544531                              No       MIXTO               A   \n",
            "544532  Si, 20 horas o más a la semana       MIXTO               A   \n",
            "544533                              No       MIXTO               A   \n",
            "544534                              No       MIXTO               A   \n",
            "\n",
            "       COLE_BILINGUE      COLE_CARACTER COLE_AREA_UBICACION COLE_JORNADA  \\\n",
            "0                  N  TÉCNICO/ACADÉMICO              URBANO        TARDE   \n",
            "1                  N  TÉCNICO/ACADÉMICO              URBANO        TARDE   \n",
            "2                  N  TÉCNICO/ACADÉMICO              URBANO        TARDE   \n",
            "3                  N  TÉCNICO/ACADÉMICO              URBANO        TARDE   \n",
            "4                  N  TÉCNICO/ACADÉMICO              URBANO        TARDE   \n",
            "...              ...                ...                 ...          ...   \n",
            "544530             N  TÉCNICO/ACADÉMICO               RURAL        NOCHE   \n",
            "544531             N  TÉCNICO/ACADÉMICO               RURAL        NOCHE   \n",
            "544532             N          ACADÉMICO              URBANO     SABATINA   \n",
            "544533             N          ACADÉMICO              URBANO       MAÑANA   \n",
            "544534             N          ACADÉMICO              URBANO     COMPLETA   \n",
            "\n",
            "       PUNT_GLOBAL  \n",
            "0              211  \n",
            "1              222  \n",
            "2              247  \n",
            "3              203  \n",
            "4              286  \n",
            "...            ...  \n",
            "544530         254  \n",
            "544531         177  \n",
            "544532         190  \n",
            "544533         192  \n",
            "544534         254  \n",
            "\n",
            "[540837 rows x 33 columns]\n"
          ]
        }
      ],
      "source": [
        "# Lista de valores permitidos\n",
        "valores_permitidos = ['BOGOTÁ', 'ANTIOQUIA', 'VALLE', 'CUNDINAMARCA', 'ATLANTICO', 'SANTANDER', 'BOLIVAR', 'CORDOBA', 'BOYACA', 'NARIÑO']\n",
        "\n",
        "# Filtrar los datos y asignar 'OTRO' a los valores no permitidos\n",
        "copy_df.loc[~copy_df['ESTU_DEPTO_RESIDE'].isin(valores_permitidos), 'ESTU_DEPTO_RESIDE'] = 'OTRO'\n",
        "\n",
        "# Muestra el DataFrame actualizado\n",
        "print(copy_df)"
      ]
    },
    {
      "cell_type": "code",
      "execution_count": null,
      "metadata": {
        "colab": {
          "base_uri": "https://localhost:8080/"
        },
        "id": "k8zm3Fm-7Lrv",
        "outputId": "34eb92a4-b16d-4409-b9da-6d01c4f3dc96"
      },
      "outputs": [
        {
          "output_type": "stream",
          "name": "stdout",
          "text": [
            "[169000  91019  73306  40947  34539  27836  26791  24463  18444  17367\n",
            "  17125]\n"
          ]
        }
      ],
      "source": [
        "# Cuenta los valores de la columna 'ESTU_ETNIA'\n",
        "conteo_valores = copy_df['ESTU_DEPTO_RESIDE'].value_counts()\n",
        "\n",
        "# Extrae los valores y las etiquetas\n",
        "valores = conteo_valores.values\n",
        "etiquetas = conteo_valores.index\n",
        "\n",
        "print(valores)"
      ]
    },
    {
      "cell_type": "code",
      "execution_count": null,
      "metadata": {
        "colab": {
          "base_uri": "https://localhost:8080/"
        },
        "id": "TNoRo-HF-L81",
        "outputId": "7d0300ec-591b-43d6-adf4-97de4a5eddce"
      },
      "outputs": [
        {
          "output_type": "display_data",
          "data": {
            "text/plain": [
              "<Figure size 640x480 with 1 Axes>"
            ],
            "image/png": "[encoded data removed]"
          },
          "metadata": {}
        }
      ],
      "source": [
        "# Calcula la frecuencia de cada valor en la columna 'ESTU_ETNIA'\n",
        "frequencies = copy_df['FAMI_ESTRATOVIVIENDA'].value_counts()\n",
        "\n",
        "# Crea una figura y ejes para el gráfico de barras\n",
        "fig, ax = plt.subplots()\n",
        "\n",
        "# Genera el gráfico de barras utilizando las frecuencias\n",
        "frequencies.plot(kind='bar', ax=ax)\n",
        "\n",
        "# Personaliza el gráfico y sus etiquetas\n",
        "\n",
        "# Muestra el gráfico\n",
        "plt.show()"
      ]
    },
    {
      "cell_type": "code",
      "execution_count": null,
      "metadata": {
        "colab": {
          "base_uri": "https://localhost:8080/"
        },
        "id": "m4B9nhUu-sdV",
        "outputId": "64469e56-4878-495f-ce23-cb1c01517062"
      },
      "outputs": [
        {
          "output_type": "stream",
          "name": "stdout",
          "text": [
            "Index(['Estrato 1', 'Estrato 2', 'Estrato 3', 'Estrato 4', 'Estrato 5',\n",
            "       'Estrato 6'],\n",
            "      dtype='object')\n"
          ]
        }
      ],
      "source": [
        "# Cuenta los valores de la columna 'ESTU_ETNIA'\n",
        "conteo_valores = copy_df['FAMI_ESTRATOVIVIENDA'].value_counts()\n",
        "\n",
        "# Extrae los valores y las etiquetas\n",
        "valores = conteo_valores.values\n",
        "etiquetas = conteo_valores.index\n",
        "\n",
        "print(etiquetas)"
      ]
    },
    {
      "cell_type": "code",
      "execution_count": null,
      "metadata": {
        "id": "xgJWv4DCFdEp"
      },
      "outputs": [],
      "source": [
        "# Lista de valores permitidos\n",
        "valores_permitidos = ['Estrato 1', 'Estrato 2', 'Estrato 3']\n",
        "\n",
        "# Filtrar los datos y asignar 'OTRO' a los valores no permitidos\n",
        "copy_df.loc[~copy_df['FAMI_ESTRATOVIVIENDA'].isin(valores_permitidos), 'FAMI_ESTRATOVIVIENDA'] = 'estrato 4 o mas'\n",
        "\n",
        "# Muestra el DataFrame actualizado"
      ]
    },
    {
      "cell_type": "code",
      "execution_count": null,
      "metadata": {
        "colab": {
          "base_uri": "https://localhost:8080/"
        },
        "id": "r8uoB-0tFtoo",
        "outputId": "0fbea0a0-9abf-4b80-c5ce-24addd1a4908"
      },
      "outputs": [
        {
          "output_type": "stream",
          "name": "stdout",
          "text": [
            "Index(['Estrato 1', 'Estrato 2', 'Estrato 3', 'estrato 4 o mas'], dtype='object')\n"
          ]
        }
      ],
      "source": [
        "# Cuenta los valores de la columna 'ESTU_ETNIA'\n",
        "conteo_valores = copy_df['FAMI_ESTRATOVIVIENDA'].value_counts()\n",
        "\n",
        "# Extrae los valores y las etiquetas\n",
        "valores = conteo_valores.values\n",
        "etiquetas = conteo_valores.index\n",
        "\n",
        "print(etiquetas)"
      ]
    },
    {
      "cell_type": "code",
      "execution_count": null,
      "metadata": {
        "colab": {
          "base_uri": "https://localhost:8080/",
          "height": 525
        },
        "id": "PHhqJX9bF19o",
        "outputId": "ea327849-92d4-4b87-9a29-ee51253a05b1"
      },
      "outputs": [
        {
          "output_type": "display_data",
          "data": {
            "text/plain": [
              "<Figure size 640x480 with 1 Axes>"
            ],
            "image/png": "[encoded data removed]"
          },
          "metadata": {}
        }
      ],
      "source": [
        "# Calcula la frecuencia de cada valor en la columna 'ESTU_ETNIA'\n",
        "frequencies = copy_df['FAMI_ESTRATOVIVIENDA'].value_counts()\n",
        "\n",
        "# Crea una figura y ejes para el gráfico de barras\n",
        "fig, ax = plt.subplots()\n",
        "\n",
        "# Genera el gráfico de barras utilizando las frecuencias\n",
        "frequencies.plot(kind='bar', ax=ax)\n",
        "\n",
        "# Personaliza el gráfico y sus etiquetas\n",
        "\n",
        "# Muestra el gráfico\n",
        "plt.show()"
      ]
    },
    {
      "cell_type": "code",
      "execution_count": null,
      "metadata": {
        "colab": {
          "base_uri": "https://localhost:8080/"
        },
        "id": "atVRs9adF6jY",
        "outputId": "c210c248-16c3-4b08-f3c3-1e107f46f462"
      },
      "outputs": [
        {
          "output_type": "display_data",
          "data": {
            "text/plain": [
              "<Figure size 640x480 with 1 Axes>"
            ],
            "image/png": "[encoded data removed]"
          },
          "metadata": {}
        }
      ],
      "source": [
        "# Calcula la frecuencia de cada valor en la columna 'ESTU_ETNIA'\n",
        "frequencies = copy_df['FAMI_PISOSHOGAR'].value_counts()\n",
        "\n",
        "# Crea una figura y ejes para el gráfico de barras\n",
        "fig, ax = plt.subplots()\n",
        "\n",
        "# Genera el gráfico de barras utilizando las frecuencias\n",
        "frequencies.plot(kind='bar', ax=ax)\n",
        "\n",
        "# Personaliza el gráfico y sus etiquetas\n",
        "\n",
        "# Muestra el gráfico\n",
        "plt.show()"
      ]
    },
    {
      "cell_type": "markdown",
      "metadata": {
        "id": "HdLyUxpoGBac"
      },
      "source": [
        "se deja igual"
      ]
    },
    {
      "cell_type": "code",
      "execution_count": null,
      "metadata": {
        "colab": {
          "base_uri": "https://localhost:8080/",
          "height": 498
        },
        "id": "wf2W6Su9GBJ_",
        "outputId": "d9a6286d-6c8e-4dc0-aa86-232d724f4ba2"
      },
      "outputs": [
        {
          "output_type": "display_data",
          "data": {
            "text/plain": [
              "<Figure size 640x480 with 1 Axes>"
            ],
            "image/png": "[encoded data removed]"
          },
          "metadata": {}
        }
      ],
      "source": [
        "# Calcula la frecuencia de cada valor en la columna 'ESTU_ETNIA'\n",
        "frequencies = copy_df['FAMI_PERSONASHOGAR'].value_counts()\n",
        "\n",
        "# Crea una figura y ejes para el gráfico de barras\n",
        "fig, ax = plt.subplots()\n",
        "\n",
        "# Genera el gráfico de barras utilizando las frecuencias\n",
        "frequencies.plot(kind='bar', ax=ax)\n",
        "\n",
        "# Personaliza el gráfico y sus etiquetas\n",
        "\n",
        "# Muestra el gráfico\n",
        "plt.show()"
      ]
    },
    {
      "cell_type": "code",
      "execution_count": null,
      "metadata": {
        "colab": {
          "base_uri": "https://localhost:8080/"
        },
        "id": "QBQtmyuRGXwY",
        "outputId": "f5d219b7-f88a-41a3-f1d6-332af6590657"
      },
      "outputs": [
        {
          "output_type": "stream",
          "name": "stdout",
          "text": [
            "Index(['Cuatro', 'Cinco', 'Tres', 'Seis', 'Siete', 'Dos', 'Ocho', 'Nueve',\n",
            "       'Diez', 'Doce o más', 'Una', 'Once'],\n",
            "      dtype='object')\n"
          ]
        }
      ],
      "source": [
        "# Cuenta los valores de la columna 'ESTU_ETNIA'\n",
        "conteo_valores = copy_df['FAMI_PERSONASHOGAR'].value_counts()\n",
        "\n",
        "# Extrae los valores y las etiquetas\n",
        "valores = conteo_valores.values\n",
        "etiquetas = conteo_valores.index\n",
        "\n",
        "print(etiquetas)"
      ]
    },
    {
      "cell_type": "code",
      "execution_count": null,
      "metadata": {
        "colab": {
          "base_uri": "https://localhost:8080/"
        },
        "id": "ZLwuZpDNNGlM",
        "outputId": "37d47744-5f3e-4f8e-ae2d-b8d498e69ea5"
      },
      "outputs": [
        {
          "output_type": "stream",
          "name": "stderr",
          "text": [
            "<ipython-input-28-b6194e766d49>:17: SettingWithCopyWarning: \n",
            "A value is trying to be set on a copy of a slice from a DataFrame.\n",
            "Try using .loc[row_indexer,col_indexer] = value instead\n",
            "\n",
            "See the caveats in the documentation: https://pandas.pydata.org/pandas-docs/stable/user_guide/indexing.html#returning-a-view-versus-a-copy\n",
            "  copy_df['FAMI_PERSONASHOGAR_AGRUPADO'] = copy_df['FAMI_PERSONASHOGAR'].replace(categorias_agrupadas)\n"
          ]
        },
        {
          "output_type": "stream",
          "name": "stdout",
          "text": [
            "       ESTU_NACIONALIDAD ESTU_GENERO ESTU_FECHANACIMIENTO ESTU_ETNIA  \\\n",
            "0               COLOMBIA           F           28/02/1997    Ninguno   \n",
            "1               COLOMBIA           F           02/11/1995    Ninguno   \n",
            "2               COLOMBIA           F           30/01/1998    Ninguno   \n",
            "3               COLOMBIA           M           02/05/1996    Ninguno   \n",
            "4               COLOMBIA           M           21/01/1998    Ninguno   \n",
            "...                  ...         ...                  ...        ...   \n",
            "544530          COLOMBIA           F           15/06/1990    Ninguno   \n",
            "544531          COLOMBIA           M           24/06/1995    Ninguno   \n",
            "544532          COLOMBIA           M           14/01/1997    Ninguno   \n",
            "544533          COLOMBIA           F           24/03/1998    Ninguno   \n",
            "544534          COLOMBIA           M           09/12/1996    Ninguno   \n",
            "\n",
            "       ESTU_DEPTO_RESIDE     ESTU_AREARESIDE ESTU_VALORPENSIONCOLEGIO  \\\n",
            "0              ANTIOQUIA  Cabecera Municipal          No paga Pensión   \n",
            "1              ANTIOQUIA  Cabecera Municipal          No paga Pensión   \n",
            "2              ANTIOQUIA  Cabecera Municipal          No paga Pensión   \n",
            "3              ANTIOQUIA  Cabecera Municipal          No paga Pensión   \n",
            "4              ANTIOQUIA  Cabecera Municipal          No paga Pensión   \n",
            "...                  ...                 ...                      ...   \n",
            "544530              OTRO          Area Rural          No paga Pensión   \n",
            "544531              OTRO          Area Rural          No paga Pensión   \n",
            "544532            NARIÑO          Area Rural          No paga Pensión   \n",
            "544533              OTRO  Cabecera Municipal          No paga Pensión   \n",
            "544534              OTRO  Cabecera Municipal            250.000 o más   \n",
            "\n",
            "       ESTU_VECESPRESENTOEXAMEN FAMI_ESTRATOVIVIENDA  \\\n",
            "0                   Ninguna vez            Estrato 2   \n",
            "1                   Ninguna vez            Estrato 2   \n",
            "2                   Ninguna vez            Estrato 2   \n",
            "3                   Ninguna vez            Estrato 2   \n",
            "4                   Ninguna vez            Estrato 2   \n",
            "...                         ...                  ...   \n",
            "544530              Ninguna vez            Estrato 1   \n",
            "544531              Ninguna vez            Estrato 1   \n",
            "544532              Ninguna vez            Estrato 1   \n",
            "544533              Ninguna vez            Estrato 2   \n",
            "544534              Ninguna vez      estrato 4 o mas   \n",
            "\n",
            "                                          FAMI_PISOSHOGAR  ...  \\\n",
            "0                             Cemento, gravilla, ladrillo  ...   \n",
            "1                             Cemento, gravilla, ladrillo  ...   \n",
            "2       Madera pulida, baldosa, tableta, mármol, alfombra  ...   \n",
            "3                             Cemento, gravilla, ladrillo  ...   \n",
            "4                             Cemento, gravilla, ladrillo  ...   \n",
            "...                                                   ...  ...   \n",
            "544530                        Cemento, gravilla, ladrillo  ...   \n",
            "544531                        Cemento, gravilla, ladrillo  ...   \n",
            "544532                        Cemento, gravilla, ladrillo  ...   \n",
            "544533                        Cemento, gravilla, ladrillo  ...   \n",
            "544534  Madera pulida, baldosa, tableta, mármol, alfombra  ...   \n",
            "\n",
            "        FAMI_INGRESOFMILIARMENSUAL         ESTU_TRABAJAACTUALMENTE  \\\n",
            "0        Entre 1 y menos de 2 SMLV                              No   \n",
            "1        Entre 1 y menos de 2 SMLV                              No   \n",
            "2        Entre 1 y menos de 2 SMLV                              No   \n",
            "3                  Menos de 1 SMLV                              No   \n",
            "4        Entre 1 y menos de 2 SMLV                              No   \n",
            "...                            ...                             ...   \n",
            "544530   Entre 1 y menos de 2 SMLV                              No   \n",
            "544531   Entre 1 y menos de 2 SMLV                              No   \n",
            "544532             Menos de 1 SMLV  Si, 20 horas o más a la semana   \n",
            "544533   Entre 3 y menos de 5 SMLV                              No   \n",
            "544534  Entre 7 y menos de 10 SMLV                              No   \n",
            "\n",
            "       COLE_GENERO COLE_CALENDARIO COLE_BILINGUE      COLE_CARACTER  \\\n",
            "0            MIXTO               A             N  TÉCNICO/ACADÉMICO   \n",
            "1            MIXTO               A             N  TÉCNICO/ACADÉMICO   \n",
            "2            MIXTO               A             N  TÉCNICO/ACADÉMICO   \n",
            "3            MIXTO               A             N  TÉCNICO/ACADÉMICO   \n",
            "4            MIXTO               A             N  TÉCNICO/ACADÉMICO   \n",
            "...            ...             ...           ...                ...   \n",
            "544530       MIXTO               A             N  TÉCNICO/ACADÉMICO   \n",
            "544531       MIXTO               A             N  TÉCNICO/ACADÉMICO   \n",
            "544532       MIXTO               A             N          ACADÉMICO   \n",
            "544533       MIXTO               A             N          ACADÉMICO   \n",
            "544534       MIXTO               A             N          ACADÉMICO   \n",
            "\n",
            "       COLE_AREA_UBICACION COLE_JORNADA PUNT_GLOBAL  \\\n",
            "0                   URBANO        TARDE         211   \n",
            "1                   URBANO        TARDE         222   \n",
            "2                   URBANO        TARDE         247   \n",
            "3                   URBANO        TARDE         203   \n",
            "4                   URBANO        TARDE         286   \n",
            "...                    ...          ...         ...   \n",
            "544530               RURAL        NOCHE         254   \n",
            "544531               RURAL        NOCHE         177   \n",
            "544532              URBANO     SABATINA         190   \n",
            "544533              URBANO       MAÑANA         192   \n",
            "544534              URBANO     COMPLETA         254   \n",
            "\n",
            "       FAMI_PERSONASHOGAR_AGRUPADO  \n",
            "0                     Cinco o Seis  \n",
            "1                     Cinco o Seis  \n",
            "2                      Mas De Seis  \n",
            "3                        Una o Dos  \n",
            "4                      Mas De Seis  \n",
            "...                            ...  \n",
            "544530               Tres o cuatro  \n",
            "544531                Cinco o Seis  \n",
            "544532               Tres o cuatro  \n",
            "544533                Cinco o Seis  \n",
            "544534               Tres o cuatro  \n",
            "\n",
            "[540837 rows x 34 columns]\n"
          ]
        }
      ],
      "source": [
        "categorias_agrupadas = {\n",
        "    'Cuatro': 'Tres o cuatro',\n",
        "    'Cinco': 'Cinco o Seis',\n",
        "    'Tres': 'Tres o cuatro',\n",
        "    'Seis': 'Cinco o Seis',\n",
        "    'Siete': 'Mas De Seis',\n",
        "    'Dos': 'Una o Dos',\n",
        "    'Ocho': 'Mas De Seis',\n",
        "    'Nueve': 'Mas De Seis',\n",
        "    'Diez': 'Mas De Seis',\n",
        "    'Doce o más': 'Mas De Seis',\n",
        "    'Una': 'Una o Dos',\n",
        "    'Once': 'Mas De Seis'\n",
        "}\n",
        "\n",
        "# Realizar la agrupación de categorías utilizando replace()\n",
        "copy_df['FAMI_PERSONASHOGAR_AGRUPADO'] = copy_df['FAMI_PERSONASHOGAR'].replace(categorias_agrupadas)\n",
        "\n",
        "# Muestra el DataFrame con la columna actualizada\n",
        "print(copy_df)"
      ]
    },
    {
      "cell_type": "code",
      "execution_count": null,
      "metadata": {
        "colab": {
          "base_uri": "https://localhost:8080/",
          "height": 505
        },
        "id": "TTyIaqqaNbwT",
        "outputId": "c350c49b-8736-4cd1-d687-d3ce0106c723"
      },
      "outputs": [
        {
          "output_type": "display_data",
          "data": {
            "text/plain": [
              "<Figure size 640x480 with 1 Axes>"
            ],
            "image/png": "[encoded data removed]"
          },
          "metadata": {}
        }
      ],
      "source": [
        "# Calcula la frecuencia de cada valor en la columna 'ESTU_ETNIA'\n",
        "frequencies = copy_df['FAMI_PERSONASHOGAR_AGRUPADO'].value_counts()\n",
        "\n",
        "# Crea una figura y ejes para el gráfico de barras\n",
        "fig, ax = plt.subplots()\n",
        "\n",
        "# Genera el gráfico de barras utilizando las frecuencias\n",
        "frequencies.plot(kind='bar', ax=ax)\n",
        "\n",
        "# Personaliza el gráfico y sus etiquetas\n",
        "\n",
        "# Muestra el gráfico\n",
        "plt.show()"
      ]
    },
    {
      "cell_type": "markdown",
      "metadata": {
        "id": "L1MrHoapLYgl"
      },
      "source": [
        "\\\n"
      ]
    },
    {
      "cell_type": "markdown",
      "metadata": {
        "id": "ZpKgTeSvHb2C"
      },
      "source": [
        "ocupacion y educacion de padres"
      ]
    },
    {
      "cell_type": "code",
      "execution_count": null,
      "metadata": {
        "colab": {
          "base_uri": "https://localhost:8080/"
        },
        "id": "CNj5UC2gHZC-",
        "outputId": "98c35d97-6099-4177-e0b2-ecc7cb00f6b2"
      },
      "outputs": [
        {
          "output_type": "display_data",
          "data": {
            "text/plain": [
              "<Figure size 640x480 with 1 Axes>"
            ],
            "image/png": "[encoded data removed]"
          },
          "metadata": {}
        }
      ],
      "source": [
        "# Calcula la frecuencia de cada valor en la columna 'ESTU_ETNIA'\n",
        "frequencies = copy_df['FAMI_EDUCACIONPADRE'].value_counts()\n",
        "\n",
        "# Crea una figura y ejes para el gráfico de barras\n",
        "fig, ax = plt.subplots()\n",
        "\n",
        "# Genera el gráfico de barras utilizando las frecuencias\n",
        "frequencies.plot(kind='bar', ax=ax)\n",
        "\n",
        "# Personaliza el gráfico y sus etiquetas\n",
        "\n",
        "# Muestra el gráfico\n",
        "plt.show()"
      ]
    },
    {
      "cell_type": "code",
      "execution_count": null,
      "metadata": {
        "colab": {
          "base_uri": "https://localhost:8080/"
        },
        "id": "WIZqMbWUQHpC",
        "outputId": "547f7203-12f4-453e-9163-c84bed0fb311"
      },
      "outputs": [
        {
          "output_type": "stream",
          "name": "stdout",
          "text": [
            "Index(['Secundaria (Bachillerato) completa', 'Primaria incompleta',\n",
            "       'Primaria completa', 'Secundaria (Bachillerato) incompleta',\n",
            "       'Educación profesional completa', 'Técnica o tecnológica completa',\n",
            "       'Ninguno', 'No sabe', 'Postgrado', 'Técnica o tecnológica incompleta',\n",
            "       'Educación profesional incompleta'],\n",
            "      dtype='object')\n"
          ]
        }
      ],
      "source": [
        "# Cuenta los valores de la columna 'ESTU_ETNIA'\n",
        "conteo_valores = copy_df['FAMI_EDUCACIONPADRE'].value_counts()\n",
        "\n",
        "# Extrae los valores y las etiquetas\n",
        "valores = conteo_valores.values\n",
        "etiquetas = conteo_valores.index\n",
        "\n",
        "print(etiquetas)"
      ]
    },
    {
      "cell_type": "code",
      "execution_count": null,
      "metadata": {
        "colab": {
          "base_uri": "https://localhost:8080/"
        },
        "id": "9gaTDBoUP9Vq",
        "outputId": "3199624c-9b25-4e47-bcf7-ffa1c0898a83"
      },
      "outputs": [
        {
          "output_type": "stream",
          "name": "stderr",
          "text": [
            "<ipython-input-32-fb51d2e24ef7>:16: SettingWithCopyWarning: \n",
            "A value is trying to be set on a copy of a slice from a DataFrame.\n",
            "Try using .loc[row_indexer,col_indexer] = value instead\n",
            "\n",
            "See the caveats in the documentation: https://pandas.pydata.org/pandas-docs/stable/user_guide/indexing.html#returning-a-view-versus-a-copy\n",
            "  copy_df['FAMI_EDUCACIONPADRE'] = copy_df['FAMI_EDUCACIONPADRE'].replace(categorias_agrupadas)\n"
          ]
        }
      ],
      "source": [
        "categorias_agrupadas = {\n",
        "    'Ninguno': 'Ninguno',\n",
        "     'Primaria completa': 'Primaria completa',\n",
        "   'Secundaria (Bachillerato) completa': 'Secundaria (Bachillerato) completa',\n",
        "    'Técnica o tecnológica completa': 'Técnica o tecnológica completa',\n",
        "    'Educación profesional completa': 'Educación profesional completa',\n",
        "    'Educación profesional incompleta': 'Secundaria (Bachillerato) completa',\n",
        "    'Técnica o tecnológica incompleta': 'Secundaria (Bachillerato) completa',\n",
        "    'No sabe': 'Ninguno',\n",
        "    'Primaria incompleta': 'Ninguno',\n",
        "    'Secundaria (Bachillerato) incompleta': 'Primaria completa',\n",
        "    'Postgrado':'Postgrado'\n",
        "}\n",
        "\n",
        "# Realizar la agrupación de categorías utilizando replace()\n",
        "copy_df['FAMI_EDUCACIONPADRE'] = copy_df['FAMI_EDUCACIONPADRE'].replace(categorias_agrupadas)\n"
      ]
    },
    {
      "cell_type": "code",
      "execution_count": null,
      "metadata": {
        "colab": {
          "base_uri": "https://localhost:8080/"
        },
        "id": "J1d71F8CRwLY",
        "outputId": "b999da3d-94ce-40a2-e0bb-24e74021c9d4"
      },
      "outputs": [
        {
          "output_type": "display_data",
          "data": {
            "text/plain": [
              "<Figure size 640x480 with 1 Axes>"
            ],
            "image/png": "[encoded data removed]"
          },
          "metadata": {}
        }
      ],
      "source": [
        "# Calcula la frecuencia de cada valor en la columna 'ESTU_ETNIA'\n",
        "frequencies = copy_df['FAMI_EDUCACIONPADRE'].value_counts()\n",
        "\n",
        "# Crea una figura y ejes para el gráfico de barras\n",
        "fig, ax = plt.subplots()\n",
        "\n",
        "# Genera el gráfico de barras utilizando las frecuencias\n",
        "frequencies.plot(kind='bar', ax=ax)\n",
        "\n",
        "# Personaliza el gráfico y sus etiquetas\n",
        "\n",
        "# Muestra el gráfico\n",
        "plt.show()"
      ]
    },
    {
      "cell_type": "markdown",
      "metadata": {
        "id": "BgUpNEFGSk6q"
      },
      "source": [
        "madre"
      ]
    },
    {
      "cell_type": "code",
      "execution_count": null,
      "metadata": {
        "colab": {
          "base_uri": "https://localhost:8080/"
        },
        "id": "iwva2HlwHYbo",
        "outputId": "11653079-81ea-46bb-a04f-e71e8856a676"
      },
      "outputs": [
        {
          "output_type": "display_data",
          "data": {
            "text/plain": [
              "<Figure size 640x480 with 1 Axes>"
            ],
            "image/png": "[encoded data removed]"
          },
          "metadata": {}
        }
      ],
      "source": [
        "# Calcula la frecuencia de cada valor en la columna 'ESTU_ETNIA'\n",
        "frequencies = copy_df['FAMI_EDUCACIONMADRE'].value_counts()\n",
        "\n",
        "# Crea una figura y ejes para el gráfico de barras\n",
        "fig, ax = plt.subplots()\n",
        "\n",
        "# Genera el gráfico de barras utilizando las frecuencias\n",
        "frequencies.plot(kind='bar', ax=ax)\n",
        "\n",
        "# Personaliza el gráfico y sus etiquetas\n",
        "\n",
        "# Muestra el gráfico\n",
        "plt.show()"
      ]
    },
    {
      "cell_type": "code",
      "execution_count": null,
      "metadata": {
        "colab": {
          "base_uri": "https://localhost:8080/"
        },
        "id": "4MDCSJYkR3t_",
        "outputId": "82cfe246-d568-4698-9a95-817a7e850ce7"
      },
      "outputs": [
        {
          "output_type": "stream",
          "name": "stderr",
          "text": [
            "<ipython-input-35-8453e566d7da>:16: SettingWithCopyWarning: \n",
            "A value is trying to be set on a copy of a slice from a DataFrame.\n",
            "Try using .loc[row_indexer,col_indexer] = value instead\n",
            "\n",
            "See the caveats in the documentation: https://pandas.pydata.org/pandas-docs/stable/user_guide/indexing.html#returning-a-view-versus-a-copy\n",
            "  copy_df['FAMI_EDUCACIONMADRE'] = copy_df['FAMI_EDUCACIONMADRE'].replace(categorias_agrupadas)\n"
          ]
        }
      ],
      "source": [
        "categorias_agrupadas = {\n",
        "    'Ninguno': 'Ninguno',\n",
        "     'Primaria completa': 'Primaria completa',\n",
        "   'Secundaria (Bachillerato) completa': 'Secundaria (Bachillerato) completa',\n",
        "    'Técnica o tecnológica completa': 'Técnica o tecnológica completa',\n",
        "    'Educación profesional completa': 'Educación profesional completa',\n",
        "    'Educación profesional incompleta': 'Secundaria (Bachillerato) completa',\n",
        "    'Técnica o tecnológica incompleta': 'Secundaria (Bachillerato) completa',\n",
        "    'No sabe': 'Ninguno',\n",
        "    'Primaria incompleta': 'Ninguno',\n",
        "    'Secundaria (Bachillerato) incompleta': 'Primaria completa',\n",
        "    'Postgrado':'Postgrado'\n",
        "}\n",
        "\n",
        "# Realizar la agrupación de categorías utilizando replace()\n",
        "copy_df['FAMI_EDUCACIONMADRE'] = copy_df['FAMI_EDUCACIONMADRE'].replace(categorias_agrupadas)"
      ]
    },
    {
      "cell_type": "code",
      "execution_count": null,
      "metadata": {
        "colab": {
          "base_uri": "https://localhost:8080/",
          "height": 662
        },
        "id": "-bwYsIi8SJSw",
        "outputId": "56f23f5b-4598-4390-d061-05e1f33716f0"
      },
      "outputs": [
        {
          "output_type": "display_data",
          "data": {
            "text/plain": [
              "<Figure size 640x480 with 1 Axes>"
            ],
            "image/png": "[encoded data removed]"
          },
          "metadata": {}
        }
      ],
      "source": [
        "# Calcula la frecuencia de cada valor en la columna 'ESTU_ETNIA'\n",
        "frequencies = copy_df['FAMI_EDUCACIONMADRE'].value_counts()\n",
        "\n",
        "# Crea una figura y ejes para el gráfico de barras\n",
        "fig, ax = plt.subplots()\n",
        "\n",
        "# Genera el gráfico de barras utilizando las frecuencias\n",
        "frequencies.plot(kind='bar', ax=ax)\n",
        "\n",
        "# Personaliza el gráfico y sus etiquetas\n",
        "\n",
        "# Muestra el gráfico\n",
        "plt.show()"
      ]
    },
    {
      "cell_type": "code",
      "execution_count": null,
      "metadata": {
        "id": "teidf6zzVLuH"
      },
      "outputs": [],
      "source": [
        "copy_df.to_csv('proyecto.csv', index=False)"
      ]
    },
    {
      "cell_type": "code",
      "execution_count": null,
      "metadata": {
        "colab": {
          "base_uri": "https://localhost:8080/"
        },
        "id": "halCTb9LrDFu",
        "outputId": "c09c0351-c8de-48e9-8bdb-f7141289c72f"
      },
      "outputs": [
        {
          "output_type": "stream",
          "name": "stderr",
          "text": [
            "<ipython-input-38-11df97fb788a>:1: SettingWithCopyWarning: \n",
            "A value is trying to be set on a copy of a slice from a DataFrame.\n",
            "Try using .loc[row_indexer,col_indexer] = value instead\n",
            "\n",
            "See the caveats in the documentation: https://pandas.pydata.org/pandas-docs/stable/user_guide/indexing.html#returning-a-view-versus-a-copy\n",
            "  copy_df['PUNT_GLOBAL'] = copy_df['PUNT_GLOBAL'] / 500\n"
          ]
        }
      ],
      "source": [
        "copy_df['PUNT_GLOBAL'] = copy_df['PUNT_GLOBAL'] / 500"
      ]
    },
    {
      "cell_type": "code",
      "execution_count": null,
      "metadata": {
        "colab": {
          "base_uri": "https://localhost:8080/"
        },
        "id": "g5OnzLdPrDCe",
        "outputId": "dd15614e-6ad3-4a8b-f747-7fb2e65ec105"
      },
      "outputs": [
        {
          "output_type": "stream",
          "name": "stderr",
          "text": [
            "<ipython-input-39-510e29973fd8>:1: SettingWithCopyWarning: \n",
            "A value is trying to be set on a copy of a slice from a DataFrame.\n",
            "Try using .loc[row_indexer,col_indexer] = value instead\n",
            "\n",
            "See the caveats in the documentation: https://pandas.pydata.org/pandas-docs/stable/user_guide/indexing.html#returning-a-view-versus-a-copy\n",
            "  copy_df['ESTU_FECHANACIMIENTO'] = pd.to_datetime(copy_df['ESTU_FECHANACIMIENTO'], format='%d/%m/%Y', errors='coerce')\n",
            "<ipython-input-39-510e29973fd8>:2: SettingWithCopyWarning: \n",
            "A value is trying to be set on a copy of a slice from a DataFrame.\n",
            "Try using .loc[row_indexer,col_indexer] = value instead\n",
            "\n",
            "See the caveats in the documentation: https://pandas.pydata.org/pandas-docs/stable/user_guide/indexing.html#returning-a-view-versus-a-copy\n",
            "  copy_df['EDAD'] = 2014 - copy_df['ESTU_FECHANACIMIENTO'].dt.year\n"
          ]
        }
      ],
      "source": [
        "copy_df['ESTU_FECHANACIMIENTO'] = pd.to_datetime(copy_df['ESTU_FECHANACIMIENTO'], format='%d/%m/%Y', errors='coerce')\n",
        "copy_df['EDAD'] = 2014 - copy_df['ESTU_FECHANACIMIENTO'].dt.year\n"
      ]
    },
    {
      "cell_type": "markdown",
      "metadata": {
        "id": "AkXQQYp-tn_9"
      },
      "source": [
        "PADRE"
      ]
    },
    {
      "cell_type": "code",
      "execution_count": null,
      "metadata": {
        "colab": {
          "base_uri": "https://localhost:8080/"
        },
        "id": "iJXxaO3jrC7u",
        "outputId": "910695cc-922a-4c28-9654-4769eae6c1cc"
      },
      "outputs": [
        {
          "output_type": "stream",
          "name": "stderr",
          "text": [
            "<ipython-input-40-17354372376c>:7: SettingWithCopyWarning: \n",
            "A value is trying to be set on a copy of a slice from a DataFrame.\n",
            "Try using .loc[row_indexer,col_indexer] = value instead\n",
            "\n",
            "See the caveats in the documentation: https://pandas.pydata.org/pandas-docs/stable/user_guide/indexing.html#returning-a-view-versus-a-copy\n",
            "  copy_df['FAMI_OCUPACIONPADRE'] = copy_df['FAMI_OCUPACIONPADRE'].replace(categorias_a_reemplazar, nueva_categoria)\n"
          ]
        }
      ],
      "source": [
        "categorias_a_reemplazar = ['Pensionado', 'Profesional independiente', 'Pequeño empresario',\n",
        "                           'Empleado de nivel auxiliar o administrativo', 'Empleado con cargo como director o gerente general',\n",
        "                           'Empresario', 'Empleado de nivel directivo', 'Hogar']\n",
        "nueva_categoria = 'Otra actividad u ocupación'\n",
        "\n",
        "# Reemplazar las categorías por la nueva categoría\n",
        "copy_df['FAMI_OCUPACIONPADRE'] = copy_df['FAMI_OCUPACIONPADRE'].replace(categorias_a_reemplazar, nueva_categoria)\n"
      ]
    },
    {
      "cell_type": "markdown",
      "metadata": {
        "id": "fTzvg4O3tcaH"
      },
      "source": [
        "MADRE"
      ]
    },
    {
      "cell_type": "code",
      "execution_count": null,
      "metadata": {
        "colab": {
          "base_uri": "https://localhost:8080/"
        },
        "id": "APuFkSFRrC0G",
        "outputId": "5abd7336-a41a-4556-e70d-960e3e84da0d"
      },
      "outputs": [
        {
          "output_type": "stream",
          "name": "stderr",
          "text": [
            "<ipython-input-41-c21e525547b2>:7: SettingWithCopyWarning: \n",
            "A value is trying to be set on a copy of a slice from a DataFrame.\n",
            "Try using .loc[row_indexer,col_indexer] = value instead\n",
            "\n",
            "See the caveats in the documentation: https://pandas.pydata.org/pandas-docs/stable/user_guide/indexing.html#returning-a-view-versus-a-copy\n",
            "  copy_df['FAMI_OCUPACIONMADRE'] = copy_df['FAMI_OCUPACIONMADRE'].replace(categorias_a_reemplazar, nueva_categoria)\n"
          ]
        }
      ],
      "source": [
        "categorias_a_reemplazar = ['Pensionado', 'Profesional independiente', 'Pequeño empresario',\n",
        "                           'Empleado de nivel auxiliar o administrativo', 'Empleado con cargo como director o gerente general',\n",
        "                           'Empresario', 'Empleado de nivel directivo']\n",
        "nueva_categoria = 'Otra actividad u ocupación'\n",
        "\n",
        "# Reemplazar las categorías por la nueva categoría\n",
        "copy_df['FAMI_OCUPACIONMADRE'] = copy_df['FAMI_OCUPACIONMADRE'].replace(categorias_a_reemplazar, nueva_categoria)"
      ]
    },
    {
      "cell_type": "code",
      "execution_count": null,
      "metadata": {
        "colab": {
          "base_uri": "https://localhost:8080/"
        },
        "id": "ybIaarYv8RyL",
        "outputId": "9f1fe4aa-0423-44f7-c4fa-e5801b31c7cd"
      },
      "outputs": [
        {
          "output_type": "stream",
          "name": "stderr",
          "text": [
            "<ipython-input-42-0e25aa023bcc>:1: SettingWithCopyWarning: \n",
            "A value is trying to be set on a copy of a slice from a DataFrame.\n",
            "Try using .loc[row_indexer,col_indexer] = value instead\n",
            "\n",
            "See the caveats in the documentation: https://pandas.pydata.org/pandas-docs/stable/user_guide/indexing.html#returning-a-view-versus-a-copy\n",
            "  copy_df['PUNT_GLOBAL'] = copy_df['PUNT_GLOBAL'] * 500\n"
          ]
        }
      ],
      "source": [
        "copy_df['PUNT_GLOBAL'] = copy_df['PUNT_GLOBAL'] * 500"
      ]
    },
    {
      "cell_type": "code",
      "execution_count": null,
      "metadata": {
        "id": "AiSduNOyvVnc"
      },
      "outputs": [],
      "source": [
        "\n",
        "copy_df=copy_df.drop('ESTU_FECHANACIMIENTO', axis=1)  # Borra la columna 'ESTU_FECHANACIMIENTO'\n"
      ]
    },
    {
      "cell_type": "code",
      "execution_count": null,
      "metadata": {
        "id": "T8KR60If8m4k"
      },
      "outputs": [],
      "source": [
        "copy_ddf=copy_df.drop('EDAD', axis=1)  # Borra la columna 'ESTU_FECHANACIMIENTO'"
      ]
    },
    {
      "cell_type": "code",
      "execution_count": null,
      "metadata": {
        "id": "qLQv4zMMvgNe"
      },
      "outputs": [],
      "source": [
        "df_encoded = pd.get_dummies(copy_ddf)"
      ]
    },
    {
      "cell_type": "code",
      "execution_count": null,
      "metadata": {
        "colab": {
          "base_uri": "https://localhost:8080/",
          "height": 505
        },
        "id": "sPX7O5fk8Aqk",
        "outputId": "7da885ad-234e-461c-f0a1-a1f52a66f712"
      },
      "outputs": [
        {
          "output_type": "execute_result",
          "data": {
            "text/plain": [
              "        PUNT_GLOBAL  ESTU_NACIONALIDAD_ARGENTINA  ESTU_NACIONALIDAD_BRASIL  \\\n",
              "0             211.0                            0                         0   \n",
              "1             222.0                            0                         0   \n",
              "2             247.0                            0                         0   \n",
              "3             203.0                            0                         0   \n",
              "4             286.0                            0                         0   \n",
              "...             ...                          ...                       ...   \n",
              "544530        254.0                            0                         0   \n",
              "544531        177.0                            0                         0   \n",
              "544532        190.0                            0                         0   \n",
              "544533        192.0                            0                         0   \n",
              "544534        254.0                            0                         0   \n",
              "\n",
              "        ESTU_NACIONALIDAD_CABO VERDE  ESTU_NACIONALIDAD_CHILE  \\\n",
              "0                                  0                        0   \n",
              "1                                  0                        0   \n",
              "2                                  0                        0   \n",
              "3                                  0                        0   \n",
              "4                                  0                        0   \n",
              "...                              ...                      ...   \n",
              "544530                             0                        0   \n",
              "544531                             0                        0   \n",
              "544532                             0                        0   \n",
              "544533                             0                        0   \n",
              "544534                             0                        0   \n",
              "\n",
              "        ESTU_NACIONALIDAD_CHINA  ESTU_NACIONALIDAD_COLOMBIA  \\\n",
              "0                             0                           1   \n",
              "1                             0                           1   \n",
              "2                             0                           1   \n",
              "3                             0                           1   \n",
              "4                             0                           1   \n",
              "...                         ...                         ...   \n",
              "544530                        0                           1   \n",
              "544531                        0                           1   \n",
              "544532                        0                           1   \n",
              "544533                        0                           1   \n",
              "544534                        0                           1   \n",
              "\n",
              "        ESTU_NACIONALIDAD_COMORAS  ESTU_NACIONALIDAD_COREA DEL SUR  \\\n",
              "0                               0                                0   \n",
              "1                               0                                0   \n",
              "2                               0                                0   \n",
              "3                               0                                0   \n",
              "4                               0                                0   \n",
              "...                           ...                              ...   \n",
              "544530                          0                                0   \n",
              "544531                          0                                0   \n",
              "544532                          0                                0   \n",
              "544533                          0                                0   \n",
              "544534                          0                                0   \n",
              "\n",
              "        ESTU_NACIONALIDAD_COSTA RICA  ...  COLE_JORNADA_COMPLETA  \\\n",
              "0                                  0  ...                      0   \n",
              "1                                  0  ...                      0   \n",
              "2                                  0  ...                      0   \n",
              "3                                  0  ...                      0   \n",
              "4                                  0  ...                      0   \n",
              "...                              ...  ...                    ...   \n",
              "544530                             0  ...                      0   \n",
              "544531                             0  ...                      0   \n",
              "544532                             0  ...                      0   \n",
              "544533                             0  ...                      0   \n",
              "544534                             0  ...                      1   \n",
              "\n",
              "        COLE_JORNADA_MAÑANA  COLE_JORNADA_NOCHE  COLE_JORNADA_SABATINA  \\\n",
              "0                         0                   0                      0   \n",
              "1                         0                   0                      0   \n",
              "2                         0                   0                      0   \n",
              "3                         0                   0                      0   \n",
              "4                         0                   0                      0   \n",
              "...                     ...                 ...                    ...   \n",
              "544530                    0                   1                      0   \n",
              "544531                    0                   1                      0   \n",
              "544532                    0                   0                      1   \n",
              "544533                    1                   0                      0   \n",
              "544534                    0                   0                      0   \n",
              "\n",
              "        COLE_JORNADA_TARDE  COLE_JORNADA_UNICA  \\\n",
              "0                        1                   0   \n",
              "1                        1                   0   \n",
              "2                        1                   0   \n",
              "3                        1                   0   \n",
              "4                        1                   0   \n",
              "...                    ...                 ...   \n",
              "544530                   0                   0   \n",
              "544531                   0                   0   \n",
              "544532                   0                   0   \n",
              "544533                   0                   0   \n",
              "544534                   0                   0   \n",
              "\n",
              "        FAMI_PERSONASHOGAR_AGRUPADO_Cinco o Seis  \\\n",
              "0                                              1   \n",
              "1                                              1   \n",
              "2                                              0   \n",
              "3                                              0   \n",
              "4                                              0   \n",
              "...                                          ...   \n",
              "544530                                         0   \n",
              "544531                                         1   \n",
              "544532                                         0   \n",
              "544533                                         1   \n",
              "544534                                         0   \n",
              "\n",
              "        FAMI_PERSONASHOGAR_AGRUPADO_Mas De Seis  \\\n",
              "0                                             0   \n",
              "1                                             0   \n",
              "2                                             1   \n",
              "3                                             0   \n",
              "4                                             1   \n",
              "...                                         ...   \n",
              "544530                                        0   \n",
              "544531                                        0   \n",
              "544532                                        0   \n",
              "544533                                        0   \n",
              "544534                                        0   \n",
              "\n",
              "        FAMI_PERSONASHOGAR_AGRUPADO_Tres o cuatro  \\\n",
              "0                                               0   \n",
              "1                                               0   \n",
              "2                                               0   \n",
              "3                                               0   \n",
              "4                                               0   \n",
              "...                                           ...   \n",
              "544530                                          1   \n",
              "544531                                          0   \n",
              "544532                                          1   \n",
              "544533                                          0   \n",
              "544534                                          1   \n",
              "\n",
              "        FAMI_PERSONASHOGAR_AGRUPADO_Una o Dos  \n",
              "0                                           0  \n",
              "1                                           0  \n",
              "2                                           0  \n",
              "3                                           1  \n",
              "4                                           0  \n",
              "...                                       ...  \n",
              "544530                                      0  \n",
              "544531                                      0  \n",
              "544532                                      0  \n",
              "544533                                      0  \n",
              "544534                                      0  \n",
              "\n",
              "[540837 rows x 151 columns]"
            ],
            "text/html": [
              "\n",
              "  <div id=\"df-140094cc-4e94-40f9-be8c-963860791742\">\n",
              "    <div class=\"colab-df-container\">\n",
              "      <div>\n",
              "<style scoped>\n",
              "    .dataframe tbody tr th:only-of-type {\n",
              "        vertical-align: middle;\n",
              "    }\n",
              "\n",
              "    .dataframe tbody tr th {\n",
              "        vertical-align: top;\n",
              "    }\n",
              "\n",
              "    .dataframe thead th {\n",
              "        text-align: right;\n",
              "    }\n",
              "</style>\n",
              "<table border=\"1\" class=\"dataframe\">\n",
              "  <thead>\n",
              "    <tr style=\"text-align: right;\">\n",
              "      <th></th>\n",
              "      <th>PUNT_GLOBAL</th>\n",
              "      <th>ESTU_NACIONALIDAD_ARGENTINA</th>\n",
              "      <th>ESTU_NACIONALIDAD_BRASIL</th>\n",
              "      <th>ESTU_NACIONALIDAD_CABO VERDE</th>\n",
              "      <th>ESTU_NACIONALIDAD_CHILE</th>\n",
              "      <th>ESTU_NACIONALIDAD_CHINA</th>\n",
              "      <th>ESTU_NACIONALIDAD_COLOMBIA</th>\n",
              "      <th>ESTU_NACIONALIDAD_COMORAS</th>\n",
              "      <th>ESTU_NACIONALIDAD_COREA DEL SUR</th>\n",
              "      <th>ESTU_NACIONALIDAD_COSTA RICA</th>\n",
              "      <th>...</th>\n",
              "      <th>COLE_JORNADA_COMPLETA</th>\n",
              "      <th>COLE_JORNADA_MAÑANA</th>\n",
              "      <th>COLE_JORNADA_NOCHE</th>\n",
              "      <th>COLE_JORNADA_SABATINA</th>\n",
              "      <th>COLE_JORNADA_TARDE</th>\n",
              "      <th>COLE_JORNADA_UNICA</th>\n",
              "      <th>FAMI_PERSONASHOGAR_AGRUPADO_Cinco o Seis</th>\n",
              "      <th>FAMI_PERSONASHOGAR_AGRUPADO_Mas De Seis</th>\n",
              "      <th>FAMI_PERSONASHOGAR_AGRUPADO_Tres o cuatro</th>\n",
              "      <th>FAMI_PERSONASHOGAR_AGRUPADO_Una o Dos</th>\n",
              "    </tr>\n",
              "  </thead>\n",
              "  <tbody>\n",
              "    <tr>\n",
              "      <th>0</th>\n",
              "      <td>211.0</td>\n",
              "      <td>0</td>\n",
              "      <td>0</td>\n",
              "      <td>0</td>\n",
              "      <td>0</td>\n",
              "      <td>0</td>\n",
              "      <td>1</td>\n",
              "      <td>0</td>\n",
              "      <td>0</td>\n",
              "      <td>0</td>\n",
              "      <td>...</td>\n",
              "      <td>0</td>\n",
              "      <td>0</td>\n",
              "      <td>0</td>\n",
              "      <td>0</td>\n",
              "      <td>1</td>\n",
              "      <td>0</td>\n",
              "      <td>1</td>\n",
              "      <td>0</td>\n",
              "      <td>0</td>\n",
              "      <td>0</td>\n",
              "    </tr>\n",
              "    <tr>\n",
              "      <th>1</th>\n",
              "      <td>222.0</td>\n",
              "      <td>0</td>\n",
              "      <td>0</td>\n",
              "      <td>0</td>\n",
              "      <td>0</td>\n",
              "      <td>0</td>\n",
              "      <td>1</td>\n",
              "      <td>0</td>\n",
              "      <td>0</td>\n",
              "      <td>0</td>\n",
              "      <td>...</td>\n",
              "      <td>0</td>\n",
              "      <td>0</td>\n",
              "      <td>0</td>\n",
              "      <td>0</td>\n",
              "      <td>1</td>\n",
              "      <td>0</td>\n",
              "      <td>1</td>\n",
              "      <td>0</td>\n",
              "      <td>0</td>\n",
              "      <td>0</td>\n",
              "    </tr>\n",
              "    <tr>\n",
              "      <th>2</th>\n",
              "      <td>247.0</td>\n",
              "      <td>0</td>\n",
              "      <td>0</td>\n",
              "      <td>0</td>\n",
              "      <td>0</td>\n",
              "      <td>0</td>\n",
              "      <td>1</td>\n",
              "      <td>0</td>\n",
              "      <td>0</td>\n",
              "      <td>0</td>\n",
              "      <td>...</td>\n",
              "      <td>0</td>\n",
              "      <td>0</td>\n",
              "      <td>0</td>\n",
              "      <td>0</td>\n",
              "      <td>1</td>\n",
              "      <td>0</td>\n",
              "      <td>0</td>\n",
              "      <td>1</td>\n",
              "      <td>0</td>\n",
              "      <td>0</td>\n",
              "    </tr>\n",
              "    <tr>\n",
              "      <th>3</th>\n",
              "      <td>203.0</td>\n",
              "      <td>0</td>\n",
              "      <td>0</td>\n",
              "      <td>0</td>\n",
              "      <td>0</td>\n",
              "      <td>0</td>\n",
              "      <td>1</td>\n",
              "      <td>0</td>\n",
              "      <td>0</td>\n",
              "      <td>0</td>\n",
              "      <td>...</td>\n",
              "      <td>0</td>\n",
              "      <td>0</td>\n",
              "      <td>0</td>\n",
              "      <td>0</td>\n",
              "      <td>1</td>\n",
              "      <td>0</td>\n",
              "      <td>0</td>\n",
              "      <td>0</td>\n",
              "      <td>0</td>\n",
              "      <td>1</td>\n",
              "    </tr>\n",
              "    <tr>\n",
              "      <th>4</th>\n",
              "      <td>286.0</td>\n",
              "      <td>0</td>\n",
              "      <td>0</td>\n",
              "      <td>0</td>\n",
              "      <td>0</td>\n",
              "      <td>0</td>\n",
              "      <td>1</td>\n",
              "      <td>0</td>\n",
              "      <td>0</td>\n",
              "      <td>0</td>\n",
              "      <td>...</td>\n",
              "      <td>0</td>\n",
              "      <td>0</td>\n",
              "      <td>0</td>\n",
              "      <td>0</td>\n",
              "      <td>1</td>\n",
              "      <td>0</td>\n",
              "      <td>0</td>\n",
              "      <td>1</td>\n",
              "      <td>0</td>\n",
              "      <td>0</td>\n",
              "    </tr>\n",
              "    <tr>\n",
              "      <th>...</th>\n",
              "      <td>...</td>\n",
              "      <td>...</td>\n",
              "      <td>...</td>\n",
              "      <td>...</td>\n",
              "      <td>...</td>\n",
              "      <td>...</td>\n",
              "      <td>...</td>\n",
              "      <td>...</td>\n",
              "      <td>...</td>\n",
              "      <td>...</td>\n",
              "      <td>...</td>\n",
              "      <td>...</td>\n",
              "      <td>...</td>\n",
              "      <td>...</td>\n",
              "      <td>...</td>\n",
              "      <td>...</td>\n",
              "      <td>...</td>\n",
              "      <td>...</td>\n",
              "      <td>...</td>\n",
              "      <td>...</td>\n",
              "      <td>...</td>\n",
              "    </tr>\n",
              "    <tr>\n",
              "      <th>544530</th>\n",
              "      <td>254.0</td>\n",
              "      <td>0</td>\n",
              "      <td>0</td>\n",
              "      <td>0</td>\n",
              "      <td>0</td>\n",
              "      <td>0</td>\n",
              "      <td>1</td>\n",
              "      <td>0</td>\n",
              "      <td>0</td>\n",
              "      <td>0</td>\n",
              "      <td>...</td>\n",
              "      <td>0</td>\n",
              "      <td>0</td>\n",
              "      <td>1</td>\n",
              "      <td>0</td>\n",
              "      <td>0</td>\n",
              "      <td>0</td>\n",
              "      <td>0</td>\n",
              "      <td>0</td>\n",
              "      <td>1</td>\n",
              "      <td>0</td>\n",
              "    </tr>\n",
              "    <tr>\n",
              "      <th>544531</th>\n",
              "      <td>177.0</td>\n",
              "      <td>0</td>\n",
              "      <td>0</td>\n",
              "      <td>0</td>\n",
              "      <td>0</td>\n",
              "      <td>0</td>\n",
              "      <td>1</td>\n",
              "      <td>0</td>\n",
              "      <td>0</td>\n",
              "      <td>0</td>\n",
              "      <td>...</td>\n",
              "      <td>0</td>\n",
              "      <td>0</td>\n",
              "      <td>1</td>\n",
              "      <td>0</td>\n",
              "      <td>0</td>\n",
              "      <td>0</td>\n",
              "      <td>1</td>\n",
              "      <td>0</td>\n",
              "      <td>0</td>\n",
              "      <td>0</td>\n",
              "    </tr>\n",
              "    <tr>\n",
              "      <th>544532</th>\n",
              "      <td>190.0</td>\n",
              "      <td>0</td>\n",
              "      <td>0</td>\n",
              "      <td>0</td>\n",
              "      <td>0</td>\n",
              "      <td>0</td>\n",
              "      <td>1</td>\n",
              "      <td>0</td>\n",
              "      <td>0</td>\n",
              "      <td>0</td>\n",
              "      <td>...</td>\n",
              "      <td>0</td>\n",
              "      <td>0</td>\n",
              "      <td>0</td>\n",
              "      <td>1</td>\n",
              "      <td>0</td>\n",
              "      <td>0</td>\n",
              "      <td>0</td>\n",
              "      <td>0</td>\n",
              "      <td>1</td>\n",
              "      <td>0</td>\n",
              "    </tr>\n",
              "    <tr>\n",
              "      <th>544533</th>\n",
              "      <td>192.0</td>\n",
              "      <td>0</td>\n",
              "      <td>0</td>\n",
              "      <td>0</td>\n",
              "      <td>0</td>\n",
              "      <td>0</td>\n",
              "      <td>1</td>\n",
              "      <td>0</td>\n",
              "      <td>0</td>\n",
              "      <td>0</td>\n",
              "      <td>...</td>\n",
              "      <td>0</td>\n",
              "      <td>1</td>\n",
              "      <td>0</td>\n",
              "      <td>0</td>\n",
              "      <td>0</td>\n",
              "      <td>0</td>\n",
              "      <td>1</td>\n",
              "      <td>0</td>\n",
              "      <td>0</td>\n",
              "      <td>0</td>\n",
              "    </tr>\n",
              "    <tr>\n",
              "      <th>544534</th>\n",
              "      <td>254.0</td>\n",
              "      <td>0</td>\n",
              "      <td>0</td>\n",
              "      <td>0</td>\n",
              "      <td>0</td>\n",
              "      <td>0</td>\n",
              "      <td>1</td>\n",
              "      <td>0</td>\n",
              "      <td>0</td>\n",
              "      <td>0</td>\n",
              "      <td>...</td>\n",
              "      <td>1</td>\n",
              "      <td>0</td>\n",
              "      <td>0</td>\n",
              "      <td>0</td>\n",
              "      <td>0</td>\n",
              "      <td>0</td>\n",
              "      <td>0</td>\n",
              "      <td>0</td>\n",
              "      <td>1</td>\n",
              "      <td>0</td>\n",
              "    </tr>\n",
              "  </tbody>\n",
              "</table>\n",
              "<p>540837 rows × 151 columns</p>\n",
              "</div>\n",
              "      <button class=\"colab-df-convert\" onclick=\"convertToInteractive('df-140094cc-4e94-40f9-be8c-963860791742')\"\n",
              "              title=\"Convert this dataframe to an interactive table.\"\n",
              "              style=\"display:none;\">\n",
              "        \n",
              "  <svg xmlns=\"http://www.w3.org/2000/svg\" height=\"24px\"viewBox=\"0 0 24 24\"\n",
              "       width=\"24px\">\n",
              "    <path d=\"M0 0h24v24H0V0z\" fill=\"none\"/>\n",
              "    <path d=\"M18.56 5.44l.94 2.06.94-2.06 2.06-.94-2.06-.94-.94-2.06-.94 2.06-2.06.94zm-11 1L8.5 8.5l.94-2.06 2.06-.94-2.06-.94L8.5 2.5l-.94 2.06-2.06.94zm10 10l.94 2.06.94-2.06 2.06-.94-2.06-.94-.94-2.06-.94 2.06-2.06.94z\"/><path d=\"M17.41 7.96l-1.37-1.37c-.4-.4-.92-.59-1.43-.59-.52 0-1.04.2-1.43.59L10.3 9.45l-7.72 7.72c-.78.78-.78 2.05 0 2.83L4 21.41c.39.39.9.59 1.41.59.51 0 1.02-.2 1.41-.59l7.78-7.78 2.81-2.81c.8-.78.8-2.07 0-2.86zM5.41 20L4 18.59l7.72-7.72 1.47 1.35L5.41 20z\"/>\n",
              "  </svg>\n",
              "      </button>\n",
              "      \n",
              "  <style>\n",
              "    .colab-df-container {\n",
              "      display:flex;\n",
              "      flex-wrap:wrap;\n",
              "      gap: 12px;\n",
              "    }\n",
              "\n",
              "    .colab-df-convert {\n",
              "      background-color: #E8F0FE;\n",
              "      border: none;\n",
              "      border-radius: 50%;\n",
              "      cursor: pointer;\n",
              "      display: none;\n",
              "      fill: #1967D2;\n",
              "      height: 32px;\n",
              "      padding: 0 0 0 0;\n",
              "      width: 32px;\n",
              "    }\n",
              "\n",
              "    .colab-df-convert:hover {\n",
              "      background-color: #E2EBFA;\n",
              "      box-shadow: 0px 1px 2px rgba(60, 64, 67, 0.3), 0px 1px 3px 1px rgba(60, 64, 67, 0.15);\n",
              "      fill: #174EA6;\n",
              "    }\n",
              "\n",
              "    [theme=dark] .colab-df-convert {\n",
              "      background-color: #3B4455;\n",
              "      fill: #D2E3FC;\n",
              "    }\n",
              "\n",
              "    [theme=dark] .colab-df-convert:hover {\n",
              "      background-color: #434B5C;\n",
              "      box-shadow: 0px 1px 3px 1px rgba(0, 0, 0, 0.15);\n",
              "      filter: drop-shadow(0px 1px 2px rgba(0, 0, 0, 0.3));\n",
              "      fill: #FFFFFF;\n",
              "    }\n",
              "  </style>\n",
              "\n",
              "      <script>\n",
              "        const buttonEl =\n",
              "          document.querySelector('#df-140094cc-4e94-40f9-be8c-963860791742 button.colab-df-convert');\n",
              "        buttonEl.style.display =\n",
              "          google.colab.kernel.accessAllowed ? 'block' : 'none';\n",
              "\n",
              "        async function convertToInteractive(key) {\n",
              "          const element = document.querySelector('#df-140094cc-4e94-40f9-be8c-963860791742');\n",
              "          const dataTable =\n",
              "            await google.colab.kernel.invokeFunction('convertToInteractive',\n",
              "                                                     [key], {});\n",
              "          if (!dataTable) return;\n",
              "\n",
              "          const docLinkHtml = 'Like what you see? Visit the ' +\n",
              "            '<a target=\"_blank\" href=https://colab.research.google.com/notebooks/data_table.ipynb>data table notebook</a>'\n",
              "            + ' to learn more about interactive tables.';\n",
              "          element.innerHTML = '';\n",
              "          dataTable['output_type'] = 'display_data';\n",
              "          await google.colab.output.renderOutput(dataTable, element);\n",
              "          const docLink = document.createElement('div');\n",
              "          docLink.innerHTML = docLinkHtml;\n",
              "          element.appendChild(docLink);\n",
              "        }\n",
              "      </script>\n",
              "    </div>\n",
              "  </div>\n",
              "  "
            ]
          },
          "metadata": {},
          "execution_count": 46
        }
      ],
      "source": [
        "df_encoded"
      ]
    },
    {
      "cell_type": "code",
      "execution_count": null,
      "metadata": {
        "colab": {
          "base_uri": "https://localhost:8080/"
        },
        "id": "PMrpCjLLwIHj",
        "outputId": "c8f7f899-168c-4caa-cb31-24cadb4dc201"
      },
      "outputs": [
        {
          "output_type": "execute_result",
          "data": {
            "text/plain": [
              "(540837, 151)"
            ]
          },
          "metadata": {},
          "execution_count": 47
        }
      ],
      "source": [
        "df_encoded.shape"
      ]
    },
    {
      "cell_type": "code",
      "execution_count": null,
      "metadata": {
        "id": "gzW_vbLYvgIN"
      },
      "outputs": [],
      "source": [
        "# Dividir los datos en conjuntos de entrenamiento y prueba\n",
        "from sklearn.model_selection import train_test_split\n",
        "\n",
        "X_train, X_test, y_train, y_test = train_test_split(df_encoded.drop('PUNT_GLOBAL', axis=1), df_encoded['PUNT_GLOBAL'], train_size=0.9, random_state=30)\n"
      ]
    },
    {
      "cell_type": "code",
      "execution_count": null,
      "metadata": {
        "id": "Heha3pEHvgEc",
        "colab": {
          "base_uri": "https://localhost:8080/"
        },
        "outputId": "7100dd5c-8531-401f-e2c9-55baf2f65b7a"
      },
      "outputs": [
        {
          "output_type": "stream",
          "name": "stdout",
          "text": [
            "Epoch 1/50\n",
            "348/348 [==============================] - 5s 13ms/step - loss: 6858.5581 - val_loss: 1226.2533\n",
            "Epoch 2/50\n",
            "348/348 [==============================] - 4s 12ms/step - loss: 1215.0667 - val_loss: 1220.7993\n",
            "Epoch 3/50\n",
            "348/348 [==============================] - 4s 11ms/step - loss: 1212.4589 - val_loss: 1219.7490\n",
            "Epoch 4/50\n",
            "348/348 [==============================] - 4s 11ms/step - loss: 1210.9258 - val_loss: 1216.5315\n",
            "Epoch 5/50\n",
            "348/348 [==============================] - 5s 13ms/step - loss: 1207.7777 - val_loss: 1212.7941\n",
            "Epoch 6/50\n",
            "348/348 [==============================] - 4s 11ms/step - loss: 1204.3309 - val_loss: 1211.3160\n",
            "Epoch 7/50\n",
            "348/348 [==============================] - 4s 11ms/step - loss: 1201.7808 - val_loss: 1210.5653\n",
            "Epoch 8/50\n",
            "348/348 [==============================] - 5s 14ms/step - loss: 1199.7144 - val_loss: 1206.6866\n",
            "Epoch 9/50\n",
            "348/348 [==============================] - 4s 11ms/step - loss: 1197.8361 - val_loss: 1204.9775\n",
            "Epoch 10/50\n",
            "348/348 [==============================] - 4s 11ms/step - loss: 1195.1107 - val_loss: 1204.0009\n",
            "Epoch 11/50\n",
            "348/348 [==============================] - 5s 13ms/step - loss: 1193.1995 - val_loss: 1203.2465\n",
            "Epoch 12/50\n",
            "348/348 [==============================] - 4s 11ms/step - loss: 1192.4062 - val_loss: 1202.8566\n",
            "Epoch 13/50\n",
            "348/348 [==============================] - 4s 11ms/step - loss: 1189.8236 - val_loss: 1206.9241\n",
            "Epoch 14/50\n",
            "348/348 [==============================] - 4s 13ms/step - loss: 1187.5500 - val_loss: 1198.8771\n",
            "Epoch 15/50\n",
            "348/348 [==============================] - 4s 12ms/step - loss: 1185.5574 - val_loss: 1200.2014\n",
            "Epoch 16/50\n",
            "348/348 [==============================] - 4s 11ms/step - loss: 1185.1217 - val_loss: 1198.0654\n",
            "Epoch 17/50\n",
            "348/348 [==============================] - 4s 12ms/step - loss: 1184.5989 - val_loss: 1197.9736\n",
            "Epoch 18/50\n",
            "348/348 [==============================] - 4s 13ms/step - loss: 1182.6317 - val_loss: 1202.9017\n",
            "Epoch 19/50\n",
            "348/348 [==============================] - 4s 11ms/step - loss: 1182.1377 - val_loss: 1202.0696\n",
            "Epoch 20/50\n",
            "348/348 [==============================] - 4s 11ms/step - loss: 1180.9874 - val_loss: 1203.3719\n",
            "Epoch 21/50\n",
            "348/348 [==============================] - 5s 14ms/step - loss: 1179.1558 - val_loss: 1197.8639\n",
            "Epoch 22/50\n",
            "348/348 [==============================] - 4s 11ms/step - loss: 1178.6224 - val_loss: 1198.4874\n",
            "Epoch 23/50\n",
            "348/348 [==============================] - 4s 11ms/step - loss: 1177.4756 - val_loss: 1197.7395\n",
            "Epoch 24/50\n",
            "348/348 [==============================] - 5s 14ms/step - loss: 1176.2681 - val_loss: 1208.0372\n",
            "Epoch 25/50\n",
            "348/348 [==============================] - 4s 11ms/step - loss: 1176.2140 - val_loss: 1198.0031\n",
            "Epoch 26/50\n",
            "348/348 [==============================] - 4s 11ms/step - loss: 1174.9124 - val_loss: 1202.6411\n",
            "Epoch 27/50\n",
            "348/348 [==============================] - 5s 14ms/step - loss: 1174.4376 - val_loss: 1197.8063\n",
            "Epoch 28/50\n",
            "348/348 [==============================] - 5s 13ms/step - loss: 1174.4509 - val_loss: 1198.2203\n",
            "Epoch 29/50\n",
            "348/348 [==============================] - 4s 12ms/step - loss: 1173.9607 - val_loss: 1198.3994\n",
            "Epoch 30/50\n",
            "348/348 [==============================] - 5s 14ms/step - loss: 1174.3181 - val_loss: 1198.6978\n",
            "Epoch 31/50\n",
            "348/348 [==============================] - 4s 11ms/step - loss: 1171.5209 - val_loss: 1197.0253\n",
            "Epoch 32/50\n",
            "348/348 [==============================] - 4s 11ms/step - loss: 1172.2805 - val_loss: 1196.6555\n",
            "Epoch 33/50\n",
            "348/348 [==============================] - 4s 13ms/step - loss: 1171.7278 - val_loss: 1203.8873\n",
            "Epoch 34/50\n",
            "348/348 [==============================] - 4s 12ms/step - loss: 1171.5811 - val_loss: 1198.3065\n",
            "Epoch 35/50\n",
            "348/348 [==============================] - 4s 11ms/step - loss: 1172.5371 - val_loss: 1199.2059\n",
            "Epoch 36/50\n",
            "348/348 [==============================] - 4s 12ms/step - loss: 1170.2207 - val_loss: 1211.9561\n",
            "Epoch 37/50\n",
            "348/348 [==============================] - 4s 12ms/step - loss: 1171.1826 - val_loss: 1196.4252\n",
            "Epoch 38/50\n",
            "348/348 [==============================] - 4s 11ms/step - loss: 1170.7184 - val_loss: 1196.6616\n",
            "Epoch 39/50\n",
            "348/348 [==============================] - 4s 12ms/step - loss: 1169.4568 - val_loss: 1198.5223\n",
            "Epoch 40/50\n",
            "348/348 [==============================] - 5s 13ms/step - loss: 1169.8519 - val_loss: 1212.3234\n",
            "Epoch 41/50\n",
            "348/348 [==============================] - 4s 11ms/step - loss: 1168.2864 - val_loss: 1198.8556\n",
            "Epoch 42/50\n",
            "348/348 [==============================] - 4s 11ms/step - loss: 1169.4775 - val_loss: 1205.5505\n",
            "Epoch 43/50\n",
            "348/348 [==============================] - 5s 14ms/step - loss: 1168.3450 - val_loss: 1200.0021\n",
            "Epoch 44/50\n",
            "348/348 [==============================] - 4s 11ms/step - loss: 1168.2545 - val_loss: 1197.9286\n",
            "Epoch 45/50\n",
            "348/348 [==============================] - 4s 11ms/step - loss: 1167.3422 - val_loss: 1199.5105\n",
            "Epoch 46/50\n",
            "348/348 [==============================] - 5s 14ms/step - loss: 1167.5377 - val_loss: 1199.8845\n",
            "Epoch 47/50\n",
            "348/348 [==============================] - 4s 11ms/step - loss: 1168.1235 - val_loss: 1198.1494\n",
            "Epoch 48/50\n",
            "348/348 [==============================] - 4s 11ms/step - loss: 1167.5134 - val_loss: 1199.1412\n",
            "Epoch 49/50\n",
            "348/348 [==============================] - 5s 13ms/step - loss: 1166.6737 - val_loss: 1202.6381\n",
            "Epoch 50/50\n",
            "348/348 [==============================] - 4s 11ms/step - loss: 1168.0107 - val_loss: 1197.4047\n",
            "1691/1691 [==============================] - 2s 1ms/step - loss: 1197.4042\n",
            "MSE:  1197.4041748046875\n",
            "1691/1691 [==============================] - 2s 1ms/step\n"
          ]
        }
      ],
      "source": [
        "from tensorflow.keras.models import Sequential\n",
        "from tensorflow.keras.layers import Dense\n",
        "\n",
        "\n",
        "# Definir la arquitectura de la red neuronal\n",
        "model = Sequential()\n",
        "model.add(Dense(256, input_dim=X_train.shape[1], activation='relu'))\n",
        "model.add(Dense(128, activation='relu'))\n",
        "model.add(Dense(1, activation='linear'))\n",
        "\n",
        "# Compilar el modelo\n",
        "model.compile(loss='mean_squared_error', optimizer='adam')\n",
        "\n",
        "# Entrenar el modelo\n",
        "model.fit(X_train, y_train, epochs=50, batch_size=1400, validation_data=(X_test, y_test))\n",
        "\n",
        "# Evaluar el modelo en el conjunto de prueba\n",
        "mse = model.evaluate(X_test, y_test)\n",
        "print('MSE: ', mse)\n",
        "\n",
        "# Hacer predicciones en el conjunto de prueba\n",
        "y_pred = model.predict(X_test)"
      ]
    },
    {
      "cell_type": "code",
      "execution_count": null,
      "metadata": {
        "colab": {
          "base_uri": "https://localhost:8080/",
          "height": 449
        },
        "id": "CV8sPT5pwDl0",
        "outputId": "4551969f-0106-497b-b4ca-f115dbf6ba8d"
      },
      "outputs": [
        {
          "output_type": "display_data",
          "data": {
            "text/plain": [
              "<Figure size 640x480 with 1 Axes>"
            ],
            "image/png": "[encoded data removed]"
          },
          "metadata": {}
        }
      ],
      "source": [
        "import matplotlib.pyplot as plt\n",
        "\n",
        "# Crear la gráfica de dispersión\n",
        "plt.scatter(y_test, y_pred)\n",
        "\n",
        "# Añadir etiquetas de los ejes\n",
        "plt.xlabel('Valores reales')\n",
        "plt.ylabel('Predicciones')\n",
        "\n",
        "# Mostrar la gráfica\n",
        "plt.show()"
      ]
    },
    {
      "cell_type": "code",
      "execution_count": null,
      "metadata": {
        "colab": {
          "base_uri": "https://localhost:8080/"
        },
        "id": "rTuqDLjF5fzn",
        "outputId": "8943df92-2841-4722-de65-fdb26bd193fe"
      },
      "outputs": [
        {
          "output_type": "stream",
          "name": "stdout",
          "text": [
            "346295    339.0\n",
            "161275    242.0\n",
            "506441    292.0\n",
            "103967    195.0\n",
            "194288    363.0\n",
            "          ...  \n",
            "419596    285.0\n",
            "190636    216.0\n",
            "268877    368.0\n",
            "115788    235.0\n",
            "508189    244.0\n",
            "Name: PUNT_GLOBAL, Length: 54084, dtype: float64\n"
          ]
        }
      ],
      "source": [
        "print(y_test)"
      ]
    },
    {
      "cell_type": "code",
      "execution_count": null,
      "metadata": {
        "colab": {
          "base_uri": "https://localhost:8080/"
        },
        "id": "UmSb9_075mLt",
        "outputId": "3130a49f-8c54-43ad-98ef-2b206a96d9fa"
      },
      "outputs": [
        {
          "output_type": "stream",
          "name": "stdout",
          "text": [
            "[[268.8853 ]\n",
            " [228.82368]\n",
            " [256.03113]\n",
            " ...\n",
            " [306.39825]\n",
            " [242.65375]\n",
            " [232.01436]]\n"
          ]
        }
      ],
      "source": [
        "print(y_pred)"
      ]
    },
    {
      "cell_type": "code",
      "execution_count": null,
      "metadata": {
        "id": "Z_D3AIKEFpMl",
        "colab": {
          "base_uri": "https://localhost:8080/",
          "height": 431
        },
        "outputId": "56228aeb-c7bd-4e5c-dfde-ce7a69f19d70"
      },
      "outputs": [
        {
          "metadata": {
            "tags": null
          },
          "name": "stdout",
          "output_type": "stream",
          "text": [
            "Hola, bienvenido a Odie.\n",
            "Por favor, regálame las siguientes características para decirte en qué puedes trabajar antes de presentar tu examen Icfes:\n"
          ]
        },
        {
          "output_type": "error",
          "ename": "KeyboardInterrupt",
          "evalue": "ignored",
          "traceback": [
            "\u001b[0;31m---------------------------------------------------------------------------\u001b[0m",
            "\u001b[0;31mKeyboardInterrupt\u001b[0m                         Traceback (most recent call last)",
            "\u001b[0;32m<ipython-input-1-7bd10aa0f1b9>\u001b[0m in \u001b[0;36m<cell line: 29>\u001b[0;34m()\u001b[0m\n\u001b[1;32m     27\u001b[0m \u001b[0;34m\u001b[0m\u001b[0m\n\u001b[1;32m     28\u001b[0m \u001b[0mbot\u001b[0m \u001b[0;34m=\u001b[0m \u001b[0mChatBot\u001b[0m\u001b[0;34m(\u001b[0m\u001b[0;34m)\u001b[0m\u001b[0;34m\u001b[0m\u001b[0;34m\u001b[0m\u001b[0m\n\u001b[0;32m---> 29\u001b[0;31m \u001b[0mbot\u001b[0m\u001b[0;34m.\u001b[0m\u001b[0mstart_chat\u001b[0m\u001b[0;34m(\u001b[0m\u001b[0;34m)\u001b[0m\u001b[0;34m\u001b[0m\u001b[0;34m\u001b[0m\u001b[0m\n\u001b[0m",
            "\u001b[0;32m<ipython-input-1-7bd10aa0f1b9>\u001b[0m in \u001b[0;36mstart_chat\u001b[0;34m(self)\u001b[0m\n\u001b[1;32m      8\u001b[0m \u001b[0;34m\u001b[0m\u001b[0m\n\u001b[1;32m      9\u001b[0m         \u001b[0mself\u001b[0m\u001b[0;34m.\u001b[0m\u001b[0mdata\u001b[0m\u001b[0;34m[\u001b[0m\u001b[0;34m'pension'\u001b[0m\u001b[0;34m]\u001b[0m \u001b[0;34m=\u001b[0m \u001b[0minput\u001b[0m\u001b[0;34m(\u001b[0m\u001b[0;34m\"Valor mensual de la pensión que pagas actualmente: \"\u001b[0m\u001b[0;34m)\u001b[0m\u001b[0;34m\u001b[0m\u001b[0;34m\u001b[0m\u001b[0m\n\u001b[0;32m---> 10\u001b[0;31m         \u001b[0mself\u001b[0m\u001b[0;34m.\u001b[0m\u001b[0mdata\u001b[0m\u001b[0;34m[\u001b[0m\u001b[0;34m'estrato'\u001b[0m\u001b[0;34m]\u001b[0m \u001b[0;34m=\u001b[0m \u001b[0minput\u001b[0m\u001b[0;34m(\u001b[0m\u001b[0;34m\"Estrato socioeconómico de la vivienda según recibo de energía eléctrica: \"\u001b[0m\u001b[0;34m)\u001b[0m\u001b[0;34m\u001b[0m\u001b[0;34m\u001b[0m\u001b[0m\n\u001b[0m\u001b[1;32m     11\u001b[0m         \u001b[0mself\u001b[0m\u001b[0;34m.\u001b[0m\u001b[0mdata\u001b[0m\u001b[0;34m[\u001b[0m\u001b[0;34m'hogar'\u001b[0m\u001b[0;34m]\u001b[0m \u001b[0;34m=\u001b[0m \u001b[0minput\u001b[0m\u001b[0;34m(\u001b[0m\u001b[0;34m\"¿Cuántas personas conforman el hogar donde vives actualmente, incluido tú?: \"\u001b[0m\u001b[0;34m)\u001b[0m\u001b[0;34m\u001b[0m\u001b[0;34m\u001b[0m\u001b[0m\n\u001b[1;32m     12\u001b[0m         \u001b[0mself\u001b[0m\u001b[0;34m.\u001b[0m\u001b[0mdata\u001b[0m\u001b[0;34m[\u001b[0m\u001b[0;34m'educacion_padre'\u001b[0m\u001b[0;34m]\u001b[0m \u001b[0;34m=\u001b[0m \u001b[0minput\u001b[0m\u001b[0;34m(\u001b[0m\u001b[0;34m\"Nivel educativo más alto alcanzado por el padre: \"\u001b[0m\u001b[0;34m)\u001b[0m\u001b[0;34m\u001b[0m\u001b[0;34m\u001b[0m\u001b[0m\n",
            "\u001b[0;32m/usr/local/lib/python3.10/dist-packages/ipykernel/kernelbase.py\u001b[0m in \u001b[0;36mraw_input\u001b[0;34m(self, prompt)\u001b[0m\n\u001b[1;32m    849\u001b[0m                 \u001b[0;34m\"raw_input was called, but this frontend does not support input requests.\"\u001b[0m\u001b[0;34m\u001b[0m\u001b[0;34m\u001b[0m\u001b[0m\n\u001b[1;32m    850\u001b[0m             )\n\u001b[0;32m--> 851\u001b[0;31m         return self._input_request(str(prompt),\n\u001b[0m\u001b[1;32m    852\u001b[0m             \u001b[0mself\u001b[0m\u001b[0;34m.\u001b[0m\u001b[0m_parent_ident\u001b[0m\u001b[0;34m,\u001b[0m\u001b[0;34m\u001b[0m\u001b[0;34m\u001b[0m\u001b[0m\n\u001b[1;32m    853\u001b[0m             \u001b[0mself\u001b[0m\u001b[0;34m.\u001b[0m\u001b[0m_parent_header\u001b[0m\u001b[0;34m,\u001b[0m\u001b[0;34m\u001b[0m\u001b[0;34m\u001b[0m\u001b[0m\n",
            "\u001b[0;32m/usr/local/lib/python3.10/dist-packages/ipykernel/kernelbase.py\u001b[0m in \u001b[0;36m_input_request\u001b[0;34m(self, prompt, ident, parent, password)\u001b[0m\n\u001b[1;32m    893\u001b[0m             \u001b[0;32mexcept\u001b[0m \u001b[0mKeyboardInterrupt\u001b[0m\u001b[0;34m:\u001b[0m\u001b[0;34m\u001b[0m\u001b[0;34m\u001b[0m\u001b[0m\n\u001b[1;32m    894\u001b[0m                 \u001b[0;31m# re-raise KeyboardInterrupt, to truncate traceback\u001b[0m\u001b[0;34m\u001b[0m\u001b[0;34m\u001b[0m\u001b[0m\n\u001b[0;32m--> 895\u001b[0;31m                 \u001b[0;32mraise\u001b[0m \u001b[0mKeyboardInterrupt\u001b[0m\u001b[0;34m(\u001b[0m\u001b[0;34m\"Interrupted by user\"\u001b[0m\u001b[0;34m)\u001b[0m \u001b[0;32mfrom\u001b[0m \u001b[0;32mNone\u001b[0m\u001b[0;34m\u001b[0m\u001b[0;34m\u001b[0m\u001b[0m\n\u001b[0m\u001b[1;32m    896\u001b[0m             \u001b[0;32mexcept\u001b[0m \u001b[0mException\u001b[0m \u001b[0;32mas\u001b[0m \u001b[0me\u001b[0m\u001b[0;34m:\u001b[0m\u001b[0;34m\u001b[0m\u001b[0;34m\u001b[0m\u001b[0m\n\u001b[1;32m    897\u001b[0m                 \u001b[0mself\u001b[0m\u001b[0;34m.\u001b[0m\u001b[0mlog\u001b[0m\u001b[0;34m.\u001b[0m\u001b[0mwarning\u001b[0m\u001b[0;34m(\u001b[0m\u001b[0;34m\"Invalid Message:\"\u001b[0m\u001b[0;34m,\u001b[0m \u001b[0mexc_info\u001b[0m\u001b[0;34m=\u001b[0m\u001b[0;32mTrue\u001b[0m\u001b[0;34m)\u001b[0m\u001b[0;34m\u001b[0m\u001b[0;34m\u001b[0m\u001b[0m\n",
            "\u001b[0;31mKeyboardInterrupt\u001b[0m: Interrupted by user"
          ]
        }
      ],
      "source": [
        "class ChatBot:\n",
        "    def __init__(self):\n",
        "        self.data = {}\n",
        "\n",
        "    def start_chat(self):\n",
        "        print(\"Hola, bienvenido a Odie.\")\n",
        "        print(\"Por favor, regálame las siguientes características para decirte en qué puedes trabajar antes de presentar tu examen Icfes:\")\n",
        "\n",
        "        self.data['pension'] = input(\"Valor mensual de la pensión que pagas actualmente: \")\n",
        "        self.data['estrato'] = input(\"Estrato socioeconómico de la vivienda según recibo de energía eléctrica: \")\n",
        "        self.data['hogar'] = input(\"¿Cuántas personas conforman el hogar donde vives actualmente, incluido tú?: \")\n",
        "        self.data['educacion_padre'] = input(\"Nivel educativo más alto alcanzado por el padre: \")\n",
        "        self.data['ocupacion_padre'] = input(\"Ocupación u oficio del padre: \")\n",
        "\n",
        "        self.save_data()\n",
        "\n",
        "    def save_data(self):\n",
        "        # Aquí puedes implementar el código para guardar los datos en una base de datos\n",
        "        # Por ejemplo, puedes utilizar SQLite o MySQL para almacenar los datos\n",
        "\n",
        "        # Aquí simplemente mostraremos los datos ingresados\n",
        "        print(\"\\nGracias por proporcionar tus datos. Aquí están los detalles:\")\n",
        "        for key, value in self.data.items():\n",
        "            print(f\"{key}: {value}\")\n",
        "\n",
        "        print(\"\\n¡Buena suerte en tu examen Icfes!\")\n",
        "\n",
        "bot = ChatBot()\n",
        "bot.start_chat()\n"
      ]
    },
    {
      "cell_type": "code",
      "source": [
        "class ChatBot:\n",
        "    def __init__(self):\n",
        "        self.data = {}\n",
        "\n",
        "    def start_chat(self):\n",
        "        print(\"Hola, bienvenido a Odie.\")\n",
        "        print(\"Por favor, regálame las siguientes características para decirte en qué puedes trabajar antes de presentar tu examen Icfes:\")\n",
        "\n",
        "        self.data['pension'] = input(\"Valor mensual de la pensión que pagas actualmente: \")\n",
        "        self.data['estrato'] = input(\"Estrato socioeconómico de la vivienda según recibo de energía eléctrica: \")\n",
        "        self.data['hogar'] = input(\"¿Cuántas personas conforman el hogar donde vives actualmente, incluido tú?: \")\n",
        "        self.data['educacion_padre'] = input(\"Nivel educativo más alto alcanzado por el padre: \")\n",
        "        self.data['ocupacion_padre'] = input(\"Ocupación u oficio del padre: \")\n",
        "        self.data['genero'] = input(\"Género: \")\n",
        "        self.data['fecha_nacimiento'] = input(\"Fecha de Nacimiento [DD/MM/AAAA]: \")\n",
        "        self.data['periodo_examen'] = input(\"Periodo de presentación del examen: \")\n",
        "        self.data['trabajo_padre'] = input(\"Señale aquella labor que sea más similar al trabajo que realizó su padre durante la mayor parte del último año: \")\n",
        "        self.data['sisben'] = input(\"Puntaje de SISBEN en el que está clasificada su familia: \")\n",
        "        self.data['internet'] = input(\"¿Su hogar cuenta con servicio o conexión a internet? (Sí/No): \")\n",
        "        self.data['cctv'] = input(\"¿Su hogar cuenta con servicio cerrado de televisión? (Sí/No): \")\n",
        "        self.data['posee_computador'] = input(\"¿Cuáles de los siguientes bienes posee su hogar?: Computador (Sí/No): \")\n",
        "        self.data['libros_hogar'] = input(\"¿Cuántos libros físicos o electrónicos hay en su hogar excluyendo periódicos, revistas, directorios telefónicos y libros del colegio?: \")\n",
        "        self.data['ingresos_hogar'] = input(\"¿Cuál es el total de ingresos mensuales de su hogar, en términos de salarios mínimos (SMMLV)?: \")\n",
        "        self.data['trabaja_actualmente'] = input(\"¿Trabaja usted actualmente? (Sí/No): \")\n",
        "\n",
        "        self.save_data()\n",
        "        self.show_recommendation()\n",
        "\n",
        "    def save_data(self):\n",
        "        # Aquí puedes implementar el código para guardar los datos en una base de datos\n",
        "        # Por ejemplo, puedes utilizar SQLite o MySQL para almacenar los datos\n",
        "\n",
        "        # Aquí simplemente mostraremos los datos ingresados\n",
        "        print(\"\\nGracias por proporcionar tus datos. Aquí están los detalles:\")\n",
        "        for key, value in self.data.items():\n",
        "            print(f\"{key}: {value}\")\n",
        "\n",
        "    def show_recommendation(self):\n",
        "        print(\"\\n¡Gracias por la información suministrada!\")\n",
        "        print(\"Según tus características, las personas similares suelen obtener un puntaje de 265-311 en el examen.\")\n",
        "        print(\"Los componentes en los que suele presentarse menor desempeño son: Inglés, Matemáticas y Lectura Crítica.\")\n",
        "        print(\"Aquí hay algunas recomendaciones de cosas que puedes hacer y actividades que podrías estudiar para mejorar en estos aspectos:\")\n",
        "        print(\"- Practicar ejercicios de gramática y vocabulario en inglés.\")\n",
        "        print(\"- Resolver problemas matemáticos de diferentes niveles de dificultad.\")\n",
        "        print(\"- Leer libros, artículos o ensayos de diversos géneros y temáticas para desarrollar la comprensión lectora.\")\n",
        "        print(\"- Tomar clases de preparación para el examen Icfes.\")\n",
        "        print(\"\\n¡Buena suerte en tu examen Icfes!\")\n",
        "\n",
        "        \n",
        "\n",
        "bot = ChatBot()\n",
        "bot.start_chat()\n"
      ],
      "metadata": {
        "colab": {
          "base_uri": "https://localhost:8080/"
        },
        "id": "8GHx5y81wTdV",
        "outputId": "51697064-302f-409d-8870-5bb67b1ccb5d"
      },
      "execution_count": null,
      "outputs": [
        {
          "output_type": "stream",
          "name": "stdout",
          "text": [
            "Hola, bienvenido a Odie.\n",
            "Por favor, regálame las siguientes características para decirte en qué puedes trabajar antes de presentar tu examen Icfes:\n",
            "Valor mensual de la pensión que pagas actualmente: 0\n",
            "Estrato socioeconómico de la vivienda según recibo de energía eléctrica: 3\n",
            "¿Cuántas personas conforman el hogar donde vives actualmente, incluido tú?: 4\n",
            "Nivel educativo más alto alcanzado por el padre: Univeritario \n",
            "Ocupación u oficio del padre: Independiente \n",
            "Género: Masculino \n",
            "Fecha de Nacimiento [DD/MM/AAAA]: 08/06/2001\n",
            "Periodo de presentación del examen: Segundo\n",
            "Señale aquella labor que sea más similar al trabajo que realizó su padre durante la mayor parte del último año: Empleado\n",
            "Puntaje de SISBEN en el que está clasificada su familia: 55\n",
            "¿Su hogar cuenta con servicio o conexión a internet? (Sí/No): Si\n",
            "¿Su hogar cuenta con servicio cerrado de televisión? (Sí/No): Si\n",
            "¿Cuáles de los siguientes bienes posee su hogar?: Computador (Sí/No): Si\n",
            "¿Cuántos libros físicos o electrónicos hay en su hogar excluyendo periódicos, revistas, directorios telefónicos y libros del colegio?: 20\n",
            "¿Cuál es el total de ingresos mensuales de su hogar, en términos de salarios mínimos (SMMLV)?: 2\n",
            "¿Trabaja usted actualmente? (Sí/No): 2\n",
            "\n",
            "Gracias por proporcionar tus datos. Aquí están los detalles:\n",
            "pension: 0\n",
            "estrato: 3\n",
            "hogar: 4\n",
            "educacion_padre: Univeritario \n",
            "ocupacion_padre: Independiente \n",
            "genero: Masculino \n",
            "fecha_nacimiento: 08/06/2001\n",
            "periodo_examen: Segundo\n",
            "trabajo_padre: Empleado\n",
            "sisben: 55\n",
            "internet: Si\n",
            "cctv: Si\n",
            "posee_computador: Si\n",
            "libros_hogar: 20\n",
            "ingresos_hogar: 2\n",
            "trabaja_actualmente: 2\n",
            "\n",
            "¡Gracias por la información suministrada!\n",
            "Según tus características, las personas similares suelen obtener un puntaje de 265-311 en el examen.\n",
            "Los componentes en los que suele presentarse menor desempeño son: Inglés, Matemáticas y Lectura Crítica.\n",
            "Aquí hay algunas recomendaciones de cosas que puedes hacer y actividades que podrías estudiar para mejorar en estos aspectos:\n",
            "- Practicar ejercicios de gramática y vocabulario en inglés.\n",
            "- Resolver problemas matemáticos de diferentes niveles de dificultad.\n",
            "- Leer libros, artículos o ensayos de diversos géneros y temáticas para desarrollar la comprensión lectora.\n",
            "- Tomar clases de preparación para el examen Icfes.\n",
            "\n",
            "¡Buena suerte en tu examen Icfes!\n"
          ]
        }
      ]
    }
  ],
  "metadata": {
    "colab": {
      "provenance": []
    },
    "kernelspec": {
      "display_name": "Python 3",
      "name": "python3"
    },
    "language_info": {
      "name": "python"
    }
  },
  "nbformat": 4,
  "nbformat_minor": 0
}